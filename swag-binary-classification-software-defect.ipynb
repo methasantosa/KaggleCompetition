{
 "cells": [
  {
   "cell_type": "code",
   "execution_count": 1,
   "id": "60b12e4d",
   "metadata": {
    "_cell_guid": "b1076dfc-b9ad-4769-8c92-a6c4dae69d19",
    "_uuid": "8f2839f25d086af736a60e9eeb907d3b93b6e0e5",
    "execution": {
     "iopub.execute_input": "2023-10-24T09:16:42.082828Z",
     "iopub.status.busy": "2023-10-24T09:16:42.082463Z",
     "iopub.status.idle": "2023-10-24T09:16:42.508664Z",
     "shell.execute_reply": "2023-10-24T09:16:42.507564Z"
    },
    "papermill": {
     "duration": 0.438098,
     "end_time": "2023-10-24T09:16:42.511938",
     "exception": false,
     "start_time": "2023-10-24T09:16:42.073840",
     "status": "completed"
    },
    "tags": []
   },
   "outputs": [
    {
     "name": "stdout",
     "output_type": "stream",
     "text": [
      "/kaggle/input/playground-series-s3e23/sample_submission.csv\n",
      "/kaggle/input/playground-series-s3e23/train.csv\n",
      "/kaggle/input/playground-series-s3e23/test.csv\n"
     ]
    }
   ],
   "source": [
    "# This Python 3 environment comes with many helpful analytics libraries installed\n",
    "# It is defined by the kaggle/python Docker image: https://github.com/kaggle/docker-python\n",
    "# For example, here's several helpful packages to load\n",
    "\n",
    "import numpy as np # linear algebra\n",
    "import pandas as pd # data processing, CSV file I/O (e.g. pd.read_csv)\n",
    "\n",
    "# Input data files are available in the read-only \"../input/\" directory\n",
    "# For example, running this (by clicking run or pressing Shift+Enter) will list all files under the input directory\n",
    "\n",
    "import os\n",
    "for dirname, _, filenames in os.walk('/kaggle/input'):\n",
    "    for filename in filenames:\n",
    "        print(os.path.join(dirname, filename))\n",
    "\n",
    "# You can write up to 20GB to the current directory (/kaggle/working/) that gets preserved as output when you create a version using \"Save & Run All\" \n",
    "# You can also write temporary files to /kaggle/temp/, but they won't be saved outside of the current session"
   ]
  },
  {
   "cell_type": "code",
   "execution_count": 2,
   "id": "10df69ed",
   "metadata": {
    "execution": {
     "iopub.execute_input": "2023-10-24T09:16:42.528790Z",
     "iopub.status.busy": "2023-10-24T09:16:42.528279Z",
     "iopub.status.idle": "2023-10-24T09:16:44.508289Z",
     "shell.execute_reply": "2023-10-24T09:16:44.506996Z"
    },
    "papermill": {
     "duration": 1.990915,
     "end_time": "2023-10-24T09:16:44.511274",
     "exception": false,
     "start_time": "2023-10-24T09:16:42.520359",
     "status": "completed"
    },
    "tags": []
   },
   "outputs": [],
   "source": [
    "import matplotlib.pyplot as plt\n",
    "import numpy as np\n",
    "import pandas as pd\n",
    "from sklearn.linear_model import LogisticRegression\n",
    "from sklearn.metrics import classification_report, confusion_matrix\n",
    "from xgboost import XGBClassifier\n",
    "from sklearn.model_selection import train_test_split\n",
    "from sklearn.metrics import accuracy_score\n",
    "\n",
    "pd.set_option('display.max_columns', None)"
   ]
  },
  {
   "cell_type": "code",
   "execution_count": 3,
   "id": "bd11d21e",
   "metadata": {
    "execution": {
     "iopub.execute_input": "2023-10-24T09:16:44.525842Z",
     "iopub.status.busy": "2023-10-24T09:16:44.525418Z",
     "iopub.status.idle": "2023-10-24T09:16:45.380596Z",
     "shell.execute_reply": "2023-10-24T09:16:45.379048Z"
    },
    "papermill": {
     "duration": 0.866064,
     "end_time": "2023-10-24T09:16:45.383752",
     "exception": false,
     "start_time": "2023-10-24T09:16:44.517688",
     "status": "completed"
    },
    "tags": []
   },
   "outputs": [],
   "source": [
    "df_sample_submission=pd.read_csv(\"/kaggle/input/playground-series-s3e23/sample_submission.csv\")\n",
    "df_test=pd.read_csv(\"/kaggle/input/playground-series-s3e23/test.csv\")\n",
    "df_train=pd.read_csv(\"/kaggle/input/playground-series-s3e23/train.csv\")"
   ]
  },
  {
   "cell_type": "code",
   "execution_count": 4,
   "id": "ea772f79",
   "metadata": {
    "execution": {
     "iopub.execute_input": "2023-10-24T09:16:45.398506Z",
     "iopub.status.busy": "2023-10-24T09:16:45.398090Z",
     "iopub.status.idle": "2023-10-24T09:16:45.425584Z",
     "shell.execute_reply": "2023-10-24T09:16:45.424164Z"
    },
    "papermill": {
     "duration": 0.038154,
     "end_time": "2023-10-24T09:16:45.428479",
     "exception": false,
     "start_time": "2023-10-24T09:16:45.390325",
     "status": "completed"
    },
    "tags": []
   },
   "outputs": [
    {
     "data": {
      "text/html": [
       "<div>\n",
       "<style scoped>\n",
       "    .dataframe tbody tr th:only-of-type {\n",
       "        vertical-align: middle;\n",
       "    }\n",
       "\n",
       "    .dataframe tbody tr th {\n",
       "        vertical-align: top;\n",
       "    }\n",
       "\n",
       "    .dataframe thead th {\n",
       "        text-align: right;\n",
       "    }\n",
       "</style>\n",
       "<table border=\"1\" class=\"dataframe\">\n",
       "  <thead>\n",
       "    <tr style=\"text-align: right;\">\n",
       "      <th></th>\n",
       "      <th>id</th>\n",
       "      <th>defects</th>\n",
       "    </tr>\n",
       "  </thead>\n",
       "  <tbody>\n",
       "    <tr>\n",
       "      <th>0</th>\n",
       "      <td>101763</td>\n",
       "      <td>0.5</td>\n",
       "    </tr>\n",
       "    <tr>\n",
       "      <th>1</th>\n",
       "      <td>101764</td>\n",
       "      <td>0.5</td>\n",
       "    </tr>\n",
       "    <tr>\n",
       "      <th>2</th>\n",
       "      <td>101765</td>\n",
       "      <td>0.5</td>\n",
       "    </tr>\n",
       "    <tr>\n",
       "      <th>3</th>\n",
       "      <td>101766</td>\n",
       "      <td>0.5</td>\n",
       "    </tr>\n",
       "    <tr>\n",
       "      <th>4</th>\n",
       "      <td>101767</td>\n",
       "      <td>0.5</td>\n",
       "    </tr>\n",
       "  </tbody>\n",
       "</table>\n",
       "</div>"
      ],
      "text/plain": [
       "       id  defects\n",
       "0  101763      0.5\n",
       "1  101764      0.5\n",
       "2  101765      0.5\n",
       "3  101766      0.5\n",
       "4  101767      0.5"
      ]
     },
     "execution_count": 4,
     "metadata": {},
     "output_type": "execute_result"
    }
   ],
   "source": [
    "df_sample_submission.head()"
   ]
  },
  {
   "cell_type": "code",
   "execution_count": 5,
   "id": "9d5a65c4",
   "metadata": {
    "execution": {
     "iopub.execute_input": "2023-10-24T09:16:45.445363Z",
     "iopub.status.busy": "2023-10-24T09:16:45.444675Z",
     "iopub.status.idle": "2023-10-24T09:16:45.476425Z",
     "shell.execute_reply": "2023-10-24T09:16:45.475104Z"
    },
    "papermill": {
     "duration": 0.043836,
     "end_time": "2023-10-24T09:16:45.479345",
     "exception": false,
     "start_time": "2023-10-24T09:16:45.435509",
     "status": "completed"
    },
    "tags": []
   },
   "outputs": [
    {
     "data": {
      "text/html": [
       "<div>\n",
       "<style scoped>\n",
       "    .dataframe tbody tr th:only-of-type {\n",
       "        vertical-align: middle;\n",
       "    }\n",
       "\n",
       "    .dataframe tbody tr th {\n",
       "        vertical-align: top;\n",
       "    }\n",
       "\n",
       "    .dataframe thead th {\n",
       "        text-align: right;\n",
       "    }\n",
       "</style>\n",
       "<table border=\"1\" class=\"dataframe\">\n",
       "  <thead>\n",
       "    <tr style=\"text-align: right;\">\n",
       "      <th></th>\n",
       "      <th>id</th>\n",
       "      <th>loc</th>\n",
       "      <th>v(g)</th>\n",
       "      <th>ev(g)</th>\n",
       "      <th>iv(g)</th>\n",
       "      <th>n</th>\n",
       "      <th>v</th>\n",
       "      <th>l</th>\n",
       "      <th>d</th>\n",
       "      <th>i</th>\n",
       "      <th>e</th>\n",
       "      <th>b</th>\n",
       "      <th>t</th>\n",
       "      <th>lOCode</th>\n",
       "      <th>lOComment</th>\n",
       "      <th>lOBlank</th>\n",
       "      <th>locCodeAndComment</th>\n",
       "      <th>uniq_Op</th>\n",
       "      <th>uniq_Opnd</th>\n",
       "      <th>total_Op</th>\n",
       "      <th>total_Opnd</th>\n",
       "      <th>branchCount</th>\n",
       "      <th>defects</th>\n",
       "    </tr>\n",
       "  </thead>\n",
       "  <tbody>\n",
       "    <tr>\n",
       "      <th>0</th>\n",
       "      <td>0</td>\n",
       "      <td>22.0</td>\n",
       "      <td>3.0</td>\n",
       "      <td>1.0</td>\n",
       "      <td>2.0</td>\n",
       "      <td>60.0</td>\n",
       "      <td>278.63</td>\n",
       "      <td>0.06</td>\n",
       "      <td>19.56</td>\n",
       "      <td>14.25</td>\n",
       "      <td>5448.79</td>\n",
       "      <td>0.09</td>\n",
       "      <td>302.71</td>\n",
       "      <td>17</td>\n",
       "      <td>1</td>\n",
       "      <td>1</td>\n",
       "      <td>0</td>\n",
       "      <td>16.0</td>\n",
       "      <td>9.0</td>\n",
       "      <td>38.0</td>\n",
       "      <td>22.0</td>\n",
       "      <td>5.0</td>\n",
       "      <td>False</td>\n",
       "    </tr>\n",
       "    <tr>\n",
       "      <th>1</th>\n",
       "      <td>1</td>\n",
       "      <td>14.0</td>\n",
       "      <td>2.0</td>\n",
       "      <td>1.0</td>\n",
       "      <td>2.0</td>\n",
       "      <td>32.0</td>\n",
       "      <td>151.27</td>\n",
       "      <td>0.14</td>\n",
       "      <td>7.00</td>\n",
       "      <td>21.11</td>\n",
       "      <td>936.71</td>\n",
       "      <td>0.05</td>\n",
       "      <td>52.04</td>\n",
       "      <td>11</td>\n",
       "      <td>0</td>\n",
       "      <td>1</td>\n",
       "      <td>0</td>\n",
       "      <td>11.0</td>\n",
       "      <td>11.0</td>\n",
       "      <td>18.0</td>\n",
       "      <td>14.0</td>\n",
       "      <td>3.0</td>\n",
       "      <td>False</td>\n",
       "    </tr>\n",
       "    <tr>\n",
       "      <th>2</th>\n",
       "      <td>2</td>\n",
       "      <td>11.0</td>\n",
       "      <td>2.0</td>\n",
       "      <td>1.0</td>\n",
       "      <td>2.0</td>\n",
       "      <td>45.0</td>\n",
       "      <td>197.65</td>\n",
       "      <td>0.11</td>\n",
       "      <td>8.05</td>\n",
       "      <td>22.76</td>\n",
       "      <td>1754.01</td>\n",
       "      <td>0.07</td>\n",
       "      <td>97.45</td>\n",
       "      <td>8</td>\n",
       "      <td>0</td>\n",
       "      <td>1</td>\n",
       "      <td>0</td>\n",
       "      <td>12.0</td>\n",
       "      <td>11.0</td>\n",
       "      <td>28.0</td>\n",
       "      <td>17.0</td>\n",
       "      <td>3.0</td>\n",
       "      <td>False</td>\n",
       "    </tr>\n",
       "    <tr>\n",
       "      <th>3</th>\n",
       "      <td>3</td>\n",
       "      <td>8.0</td>\n",
       "      <td>1.0</td>\n",
       "      <td>1.0</td>\n",
       "      <td>1.0</td>\n",
       "      <td>23.0</td>\n",
       "      <td>94.01</td>\n",
       "      <td>0.19</td>\n",
       "      <td>5.25</td>\n",
       "      <td>17.86</td>\n",
       "      <td>473.66</td>\n",
       "      <td>0.03</td>\n",
       "      <td>26.31</td>\n",
       "      <td>4</td>\n",
       "      <td>0</td>\n",
       "      <td>2</td>\n",
       "      <td>0</td>\n",
       "      <td>8.0</td>\n",
       "      <td>6.0</td>\n",
       "      <td>16.0</td>\n",
       "      <td>7.0</td>\n",
       "      <td>1.0</td>\n",
       "      <td>True</td>\n",
       "    </tr>\n",
       "    <tr>\n",
       "      <th>4</th>\n",
       "      <td>4</td>\n",
       "      <td>11.0</td>\n",
       "      <td>2.0</td>\n",
       "      <td>1.0</td>\n",
       "      <td>2.0</td>\n",
       "      <td>17.0</td>\n",
       "      <td>60.94</td>\n",
       "      <td>0.18</td>\n",
       "      <td>5.63</td>\n",
       "      <td>12.44</td>\n",
       "      <td>365.67</td>\n",
       "      <td>0.02</td>\n",
       "      <td>20.31</td>\n",
       "      <td>7</td>\n",
       "      <td>0</td>\n",
       "      <td>2</td>\n",
       "      <td>0</td>\n",
       "      <td>7.0</td>\n",
       "      <td>6.0</td>\n",
       "      <td>10.0</td>\n",
       "      <td>10.0</td>\n",
       "      <td>3.0</td>\n",
       "      <td>False</td>\n",
       "    </tr>\n",
       "  </tbody>\n",
       "</table>\n",
       "</div>"
      ],
      "text/plain": [
       "   id   loc  v(g)  ev(g)  iv(g)     n       v     l      d      i        e  \\\n",
       "0   0  22.0   3.0    1.0    2.0  60.0  278.63  0.06  19.56  14.25  5448.79   \n",
       "1   1  14.0   2.0    1.0    2.0  32.0  151.27  0.14   7.00  21.11   936.71   \n",
       "2   2  11.0   2.0    1.0    2.0  45.0  197.65  0.11   8.05  22.76  1754.01   \n",
       "3   3   8.0   1.0    1.0    1.0  23.0   94.01  0.19   5.25  17.86   473.66   \n",
       "4   4  11.0   2.0    1.0    2.0  17.0   60.94  0.18   5.63  12.44   365.67   \n",
       "\n",
       "      b       t  lOCode  lOComment  lOBlank  locCodeAndComment  uniq_Op  \\\n",
       "0  0.09  302.71      17          1        1                  0     16.0   \n",
       "1  0.05   52.04      11          0        1                  0     11.0   \n",
       "2  0.07   97.45       8          0        1                  0     12.0   \n",
       "3  0.03   26.31       4          0        2                  0      8.0   \n",
       "4  0.02   20.31       7          0        2                  0      7.0   \n",
       "\n",
       "   uniq_Opnd  total_Op  total_Opnd  branchCount  defects  \n",
       "0        9.0      38.0        22.0          5.0    False  \n",
       "1       11.0      18.0        14.0          3.0    False  \n",
       "2       11.0      28.0        17.0          3.0    False  \n",
       "3        6.0      16.0         7.0          1.0     True  \n",
       "4        6.0      10.0        10.0          3.0    False  "
      ]
     },
     "execution_count": 5,
     "metadata": {},
     "output_type": "execute_result"
    }
   ],
   "source": [
    "df_train.head(5)"
   ]
  },
  {
   "cell_type": "code",
   "execution_count": 6,
   "id": "2b8c6393",
   "metadata": {
    "execution": {
     "iopub.execute_input": "2023-10-24T09:16:45.496515Z",
     "iopub.status.busy": "2023-10-24T09:16:45.496003Z",
     "iopub.status.idle": "2023-10-24T09:16:45.505111Z",
     "shell.execute_reply": "2023-10-24T09:16:45.503788Z"
    },
    "papermill": {
     "duration": 0.021239,
     "end_time": "2023-10-24T09:16:45.507874",
     "exception": false,
     "start_time": "2023-10-24T09:16:45.486635",
     "status": "completed"
    },
    "tags": []
   },
   "outputs": [],
   "source": [
    "df_train_new=df_train.copy()"
   ]
  },
  {
   "cell_type": "code",
   "execution_count": 7,
   "id": "dccbe927",
   "metadata": {
    "execution": {
     "iopub.execute_input": "2023-10-24T09:16:45.524437Z",
     "iopub.status.busy": "2023-10-24T09:16:45.524021Z",
     "iopub.status.idle": "2023-10-24T09:16:45.547334Z",
     "shell.execute_reply": "2023-10-24T09:16:45.546237Z"
    },
    "papermill": {
     "duration": 0.034679,
     "end_time": "2023-10-24T09:16:45.549744",
     "exception": false,
     "start_time": "2023-10-24T09:16:45.515065",
     "status": "completed"
    },
    "tags": []
   },
   "outputs": [],
   "source": [
    "X_train=df_train_new.drop('defects',axis=1)\n",
    "y_train=df_train_new[['defects']].copy()"
   ]
  },
  {
   "cell_type": "code",
   "execution_count": 8,
   "id": "51a1fc06",
   "metadata": {
    "execution": {
     "iopub.execute_input": "2023-10-24T09:16:45.565934Z",
     "iopub.status.busy": "2023-10-24T09:16:45.565524Z",
     "iopub.status.idle": "2023-10-24T09:16:54.808842Z",
     "shell.execute_reply": "2023-10-24T09:16:54.807679Z"
    },
    "papermill": {
     "duration": 9.254265,
     "end_time": "2023-10-24T09:16:54.811422",
     "exception": false,
     "start_time": "2023-10-24T09:16:45.557157",
     "status": "completed"
    },
    "tags": []
   },
   "outputs": [
    {
     "data": {
      "text/html": [
       "<style>#sk-container-id-1 {color: black;background-color: white;}#sk-container-id-1 pre{padding: 0;}#sk-container-id-1 div.sk-toggleable {background-color: white;}#sk-container-id-1 label.sk-toggleable__label {cursor: pointer;display: block;width: 100%;margin-bottom: 0;padding: 0.3em;box-sizing: border-box;text-align: center;}#sk-container-id-1 label.sk-toggleable__label-arrow:before {content: \"▸\";float: left;margin-right: 0.25em;color: #696969;}#sk-container-id-1 label.sk-toggleable__label-arrow:hover:before {color: black;}#sk-container-id-1 div.sk-estimator:hover label.sk-toggleable__label-arrow:before {color: black;}#sk-container-id-1 div.sk-toggleable__content {max-height: 0;max-width: 0;overflow: hidden;text-align: left;background-color: #f0f8ff;}#sk-container-id-1 div.sk-toggleable__content pre {margin: 0.2em;color: black;border-radius: 0.25em;background-color: #f0f8ff;}#sk-container-id-1 input.sk-toggleable__control:checked~div.sk-toggleable__content {max-height: 200px;max-width: 100%;overflow: auto;}#sk-container-id-1 input.sk-toggleable__control:checked~label.sk-toggleable__label-arrow:before {content: \"▾\";}#sk-container-id-1 div.sk-estimator input.sk-toggleable__control:checked~label.sk-toggleable__label {background-color: #d4ebff;}#sk-container-id-1 div.sk-label input.sk-toggleable__control:checked~label.sk-toggleable__label {background-color: #d4ebff;}#sk-container-id-1 input.sk-hidden--visually {border: 0;clip: rect(1px 1px 1px 1px);clip: rect(1px, 1px, 1px, 1px);height: 1px;margin: -1px;overflow: hidden;padding: 0;position: absolute;width: 1px;}#sk-container-id-1 div.sk-estimator {font-family: monospace;background-color: #f0f8ff;border: 1px dotted black;border-radius: 0.25em;box-sizing: border-box;margin-bottom: 0.5em;}#sk-container-id-1 div.sk-estimator:hover {background-color: #d4ebff;}#sk-container-id-1 div.sk-parallel-item::after {content: \"\";width: 100%;border-bottom: 1px solid gray;flex-grow: 1;}#sk-container-id-1 div.sk-label:hover label.sk-toggleable__label {background-color: #d4ebff;}#sk-container-id-1 div.sk-serial::before {content: \"\";position: absolute;border-left: 1px solid gray;box-sizing: border-box;top: 0;bottom: 0;left: 50%;z-index: 0;}#sk-container-id-1 div.sk-serial {display: flex;flex-direction: column;align-items: center;background-color: white;padding-right: 0.2em;padding-left: 0.2em;position: relative;}#sk-container-id-1 div.sk-item {position: relative;z-index: 1;}#sk-container-id-1 div.sk-parallel {display: flex;align-items: stretch;justify-content: center;background-color: white;position: relative;}#sk-container-id-1 div.sk-item::before, #sk-container-id-1 div.sk-parallel-item::before {content: \"\";position: absolute;border-left: 1px solid gray;box-sizing: border-box;top: 0;bottom: 0;left: 50%;z-index: -1;}#sk-container-id-1 div.sk-parallel-item {display: flex;flex-direction: column;z-index: 1;position: relative;background-color: white;}#sk-container-id-1 div.sk-parallel-item:first-child::after {align-self: flex-end;width: 50%;}#sk-container-id-1 div.sk-parallel-item:last-child::after {align-self: flex-start;width: 50%;}#sk-container-id-1 div.sk-parallel-item:only-child::after {width: 0;}#sk-container-id-1 div.sk-dashed-wrapped {border: 1px dashed gray;margin: 0 0.4em 0.5em 0.4em;box-sizing: border-box;padding-bottom: 0.4em;background-color: white;}#sk-container-id-1 div.sk-label label {font-family: monospace;font-weight: bold;display: inline-block;line-height: 1.2em;}#sk-container-id-1 div.sk-label-container {text-align: center;}#sk-container-id-1 div.sk-container {/* jupyter's `normalize.less` sets `[hidden] { display: none; }` but bootstrap.min.css set `[hidden] { display: none !important; }` so we also need the `!important` here to be able to override the default hidden behavior on the sphinx rendered scikit-learn.org. See: https://github.com/scikit-learn/scikit-learn/issues/21755 */display: inline-block !important;position: relative;}#sk-container-id-1 div.sk-text-repr-fallback {display: none;}</style><div id=\"sk-container-id-1\" class=\"sk-top-container\"><div class=\"sk-text-repr-fallback\"><pre>XGBClassifier(base_score=None, booster=None, callbacks=None,\n",
       "              colsample_bylevel=None, colsample_bynode=None,\n",
       "              colsample_bytree=None, early_stopping_rounds=None,\n",
       "              enable_categorical=False, eval_metric=None, feature_types=None,\n",
       "              gamma=None, gpu_id=None, grow_policy=None, importance_type=None,\n",
       "              interaction_constraints=None, learning_rate=None, max_bin=None,\n",
       "              max_cat_threshold=None, max_cat_to_onehot=None,\n",
       "              max_delta_step=None, max_depth=None, max_leaves=None,\n",
       "              min_child_weight=None, missing=nan, monotone_constraints=None,\n",
       "              n_estimators=100, n_jobs=None, num_parallel_tree=None,\n",
       "              predictor=None, random_state=None, ...)</pre><b>In a Jupyter environment, please rerun this cell to show the HTML representation or trust the notebook. <br />On GitHub, the HTML representation is unable to render, please try loading this page with nbviewer.org.</b></div><div class=\"sk-container\" hidden><div class=\"sk-item\"><div class=\"sk-estimator sk-toggleable\"><input class=\"sk-toggleable__control sk-hidden--visually\" id=\"sk-estimator-id-1\" type=\"checkbox\" checked><label for=\"sk-estimator-id-1\" class=\"sk-toggleable__label sk-toggleable__label-arrow\">XGBClassifier</label><div class=\"sk-toggleable__content\"><pre>XGBClassifier(base_score=None, booster=None, callbacks=None,\n",
       "              colsample_bylevel=None, colsample_bynode=None,\n",
       "              colsample_bytree=None, early_stopping_rounds=None,\n",
       "              enable_categorical=False, eval_metric=None, feature_types=None,\n",
       "              gamma=None, gpu_id=None, grow_policy=None, importance_type=None,\n",
       "              interaction_constraints=None, learning_rate=None, max_bin=None,\n",
       "              max_cat_threshold=None, max_cat_to_onehot=None,\n",
       "              max_delta_step=None, max_depth=None, max_leaves=None,\n",
       "              min_child_weight=None, missing=nan, monotone_constraints=None,\n",
       "              n_estimators=100, n_jobs=None, num_parallel_tree=None,\n",
       "              predictor=None, random_state=None, ...)</pre></div></div></div></div></div>"
      ],
      "text/plain": [
       "XGBClassifier(base_score=None, booster=None, callbacks=None,\n",
       "              colsample_bylevel=None, colsample_bynode=None,\n",
       "              colsample_bytree=None, early_stopping_rounds=None,\n",
       "              enable_categorical=False, eval_metric=None, feature_types=None,\n",
       "              gamma=None, gpu_id=None, grow_policy=None, importance_type=None,\n",
       "              interaction_constraints=None, learning_rate=None, max_bin=None,\n",
       "              max_cat_threshold=None, max_cat_to_onehot=None,\n",
       "              max_delta_step=None, max_depth=None, max_leaves=None,\n",
       "              min_child_weight=None, missing=nan, monotone_constraints=None,\n",
       "              n_estimators=100, n_jobs=None, num_parallel_tree=None,\n",
       "              predictor=None, random_state=None, ...)"
      ]
     },
     "execution_count": 8,
     "metadata": {},
     "output_type": "execute_result"
    }
   ],
   "source": [
    "# fit model no training data\n",
    "model = XGBClassifier()\n",
    "model.fit(X_train, y_train)"
   ]
  },
  {
   "cell_type": "code",
   "execution_count": 9,
   "id": "9cd3aba5",
   "metadata": {
    "execution": {
     "iopub.execute_input": "2023-10-24T09:16:54.829654Z",
     "iopub.status.busy": "2023-10-24T09:16:54.828271Z",
     "iopub.status.idle": "2023-10-24T09:16:54.836262Z",
     "shell.execute_reply": "2023-10-24T09:16:54.834988Z"
    },
    "papermill": {
     "duration": 0.019427,
     "end_time": "2023-10-24T09:16:54.838919",
     "exception": false,
     "start_time": "2023-10-24T09:16:54.819492",
     "status": "completed"
    },
    "tags": []
   },
   "outputs": [
    {
     "name": "stdout",
     "output_type": "stream",
     "text": [
      "XGBClassifier(base_score=None, booster=None, callbacks=None,\n",
      "              colsample_bylevel=None, colsample_bynode=None,\n",
      "              colsample_bytree=None, early_stopping_rounds=None,\n",
      "              enable_categorical=False, eval_metric=None, feature_types=None,\n",
      "              gamma=None, gpu_id=None, grow_policy=None, importance_type=None,\n",
      "              interaction_constraints=None, learning_rate=None, max_bin=None,\n",
      "              max_cat_threshold=None, max_cat_to_onehot=None,\n",
      "              max_delta_step=None, max_depth=None, max_leaves=None,\n",
      "              min_child_weight=None, missing=nan, monotone_constraints=None,\n",
      "              n_estimators=100, n_jobs=None, num_parallel_tree=None,\n",
      "              predictor=None, random_state=None, ...)\n"
     ]
    }
   ],
   "source": [
    "print(model)"
   ]
  },
  {
   "cell_type": "code",
   "execution_count": 10,
   "id": "14ca8f81",
   "metadata": {
    "execution": {
     "iopub.execute_input": "2023-10-24T09:16:54.856842Z",
     "iopub.status.busy": "2023-10-24T09:16:54.855566Z",
     "iopub.status.idle": "2023-10-24T09:16:55.033436Z",
     "shell.execute_reply": "2023-10-24T09:16:55.032238Z"
    },
    "papermill": {
     "duration": 0.189826,
     "end_time": "2023-10-24T09:16:55.036294",
     "exception": false,
     "start_time": "2023-10-24T09:16:54.846468",
     "status": "completed"
    },
    "tags": []
   },
   "outputs": [],
   "source": [
    "# make predictions for test data\n",
    "y_pred = model.predict(df_test)\n",
    "predictions = [round(value) for value in y_pred]"
   ]
  },
  {
   "cell_type": "code",
   "execution_count": 11,
   "id": "693da713",
   "metadata": {
    "execution": {
     "iopub.execute_input": "2023-10-24T09:16:55.053136Z",
     "iopub.status.busy": "2023-10-24T09:16:55.052698Z",
     "iopub.status.idle": "2023-10-24T09:16:55.059891Z",
     "shell.execute_reply": "2023-10-24T09:16:55.058998Z"
    },
    "papermill": {
     "duration": 0.018257,
     "end_time": "2023-10-24T09:16:55.062115",
     "exception": false,
     "start_time": "2023-10-24T09:16:55.043858",
     "status": "completed"
    },
    "tags": []
   },
   "outputs": [
    {
     "data": {
      "text/plain": [
       "array([0, 0, 0, ..., 0, 0, 1])"
      ]
     },
     "execution_count": 11,
     "metadata": {},
     "output_type": "execute_result"
    }
   ],
   "source": [
    "y_pred"
   ]
  },
  {
   "cell_type": "code",
   "execution_count": 12,
   "id": "d3f9eba1",
   "metadata": {
    "execution": {
     "iopub.execute_input": "2023-10-24T09:16:55.080166Z",
     "iopub.status.busy": "2023-10-24T09:16:55.079146Z",
     "iopub.status.idle": "2023-10-24T09:16:55.086100Z",
     "shell.execute_reply": "2023-10-24T09:16:55.084819Z"
    },
    "papermill": {
     "duration": 0.01863,
     "end_time": "2023-10-24T09:16:55.088584",
     "exception": false,
     "start_time": "2023-10-24T09:16:55.069954",
     "status": "completed"
    },
    "tags": []
   },
   "outputs": [],
   "source": [
    "df_submit=df_test[['id']].copy()"
   ]
  },
  {
   "cell_type": "code",
   "execution_count": 13,
   "id": "57777866",
   "metadata": {
    "execution": {
     "iopub.execute_input": "2023-10-24T09:16:55.106002Z",
     "iopub.status.busy": "2023-10-24T09:16:55.105591Z",
     "iopub.status.idle": "2023-10-24T09:16:55.111709Z",
     "shell.execute_reply": "2023-10-24T09:16:55.110334Z"
    },
    "papermill": {
     "duration": 0.017782,
     "end_time": "2023-10-24T09:16:55.114287",
     "exception": false,
     "start_time": "2023-10-24T09:16:55.096505",
     "status": "completed"
    },
    "tags": []
   },
   "outputs": [],
   "source": [
    "df = pd.DataFrame(y_pred, columns = ['defects'])"
   ]
  },
  {
   "cell_type": "code",
   "execution_count": 14,
   "id": "8f9e6f63",
   "metadata": {
    "execution": {
     "iopub.execute_input": "2023-10-24T09:16:55.131475Z",
     "iopub.status.busy": "2023-10-24T09:16:55.131075Z",
     "iopub.status.idle": "2023-10-24T09:16:55.139221Z",
     "shell.execute_reply": "2023-10-24T09:16:55.137991Z"
    },
    "papermill": {
     "duration": 0.019929,
     "end_time": "2023-10-24T09:16:55.141912",
     "exception": false,
     "start_time": "2023-10-24T09:16:55.121983",
     "status": "completed"
    },
    "tags": []
   },
   "outputs": [],
   "source": [
    "df_submit['defects'] = df['defects'].values"
   ]
  },
  {
   "cell_type": "code",
   "execution_count": 15,
   "id": "2accfe87",
   "metadata": {
    "execution": {
     "iopub.execute_input": "2023-10-24T09:16:55.159304Z",
     "iopub.status.busy": "2023-10-24T09:16:55.158888Z",
     "iopub.status.idle": "2023-10-24T09:16:55.170175Z",
     "shell.execute_reply": "2023-10-24T09:16:55.168996Z"
    },
    "papermill": {
     "duration": 0.022854,
     "end_time": "2023-10-24T09:16:55.172559",
     "exception": false,
     "start_time": "2023-10-24T09:16:55.149705",
     "status": "completed"
    },
    "tags": []
   },
   "outputs": [
    {
     "data": {
      "text/html": [
       "<div>\n",
       "<style scoped>\n",
       "    .dataframe tbody tr th:only-of-type {\n",
       "        vertical-align: middle;\n",
       "    }\n",
       "\n",
       "    .dataframe tbody tr th {\n",
       "        vertical-align: top;\n",
       "    }\n",
       "\n",
       "    .dataframe thead th {\n",
       "        text-align: right;\n",
       "    }\n",
       "</style>\n",
       "<table border=\"1\" class=\"dataframe\">\n",
       "  <thead>\n",
       "    <tr style=\"text-align: right;\">\n",
       "      <th></th>\n",
       "      <th>id</th>\n",
       "      <th>defects</th>\n",
       "    </tr>\n",
       "  </thead>\n",
       "  <tbody>\n",
       "    <tr>\n",
       "      <th>67837</th>\n",
       "      <td>169600</td>\n",
       "      <td>0</td>\n",
       "    </tr>\n",
       "    <tr>\n",
       "      <th>67838</th>\n",
       "      <td>169601</td>\n",
       "      <td>0</td>\n",
       "    </tr>\n",
       "    <tr>\n",
       "      <th>67839</th>\n",
       "      <td>169602</td>\n",
       "      <td>0</td>\n",
       "    </tr>\n",
       "    <tr>\n",
       "      <th>67840</th>\n",
       "      <td>169603</td>\n",
       "      <td>0</td>\n",
       "    </tr>\n",
       "    <tr>\n",
       "      <th>67841</th>\n",
       "      <td>169604</td>\n",
       "      <td>1</td>\n",
       "    </tr>\n",
       "  </tbody>\n",
       "</table>\n",
       "</div>"
      ],
      "text/plain": [
       "           id  defects\n",
       "67837  169600        0\n",
       "67838  169601        0\n",
       "67839  169602        0\n",
       "67840  169603        0\n",
       "67841  169604        1"
      ]
     },
     "execution_count": 15,
     "metadata": {},
     "output_type": "execute_result"
    }
   ],
   "source": [
    "df_submit.tail()"
   ]
  },
  {
   "cell_type": "code",
   "execution_count": 16,
   "id": "41635d8a",
   "metadata": {
    "execution": {
     "iopub.execute_input": "2023-10-24T09:16:55.191864Z",
     "iopub.status.busy": "2023-10-24T09:16:55.191476Z",
     "iopub.status.idle": "2023-10-24T09:16:55.201320Z",
     "shell.execute_reply": "2023-10-24T09:16:55.200205Z"
    },
    "papermill": {
     "duration": 0.022809,
     "end_time": "2023-10-24T09:16:55.203772",
     "exception": false,
     "start_time": "2023-10-24T09:16:55.180963",
     "status": "completed"
    },
    "tags": []
   },
   "outputs": [
    {
     "data": {
      "text/plain": [
       "array([0, 1])"
      ]
     },
     "execution_count": 16,
     "metadata": {},
     "output_type": "execute_result"
    }
   ],
   "source": [
    "df_submit['defects'].unique()"
   ]
  },
  {
   "cell_type": "code",
   "execution_count": 17,
   "id": "73e3b087",
   "metadata": {
    "execution": {
     "iopub.execute_input": "2023-10-24T09:16:55.221792Z",
     "iopub.status.busy": "2023-10-24T09:16:55.221418Z",
     "iopub.status.idle": "2023-10-24T09:16:55.439456Z",
     "shell.execute_reply": "2023-10-24T09:16:55.438243Z"
    },
    "papermill": {
     "duration": 0.230391,
     "end_time": "2023-10-24T09:16:55.442241",
     "exception": false,
     "start_time": "2023-10-24T09:16:55.211850",
     "status": "completed"
    },
    "tags": []
   },
   "outputs": [],
   "source": [
    "df_submit.to_csv('submission_metha.csv')"
   ]
  }
 ],
 "metadata": {
  "kernelspec": {
   "display_name": "Python 3",
   "language": "python",
   "name": "python3"
  },
  "language_info": {
   "codemirror_mode": {
    "name": "ipython",
    "version": 3
   },
   "file_extension": ".py",
   "mimetype": "text/x-python",
   "name": "python",
   "nbconvert_exporter": "python",
   "pygments_lexer": "ipython3",
   "version": "3.10.12"
  },
  "papermill": {
   "default_parameters": {},
   "duration": 17.776315,
   "end_time": "2023-10-24T09:16:56.071943",
   "environment_variables": {},
   "exception": null,
   "input_path": "__notebook__.ipynb",
   "output_path": "__notebook__.ipynb",
   "parameters": {},
   "start_time": "2023-10-24T09:16:38.295628",
   "version": "2.4.0"
  }
 },
 "nbformat": 4,
 "nbformat_minor": 5
}
