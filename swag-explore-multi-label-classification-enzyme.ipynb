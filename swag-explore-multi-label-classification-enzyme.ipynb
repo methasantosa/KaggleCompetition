{
 "cells": [
  {
   "cell_type": "code",
   "execution_count": 1,
   "id": "a793cde9",
   "metadata": {
    "_cell_guid": "b1076dfc-b9ad-4769-8c92-a6c4dae69d19",
    "_uuid": "8f2839f25d086af736a60e9eeb907d3b93b6e0e5",
    "execution": {
     "iopub.execute_input": "2023-06-28T16:22:52.034239Z",
     "iopub.status.busy": "2023-06-28T16:22:52.033578Z",
     "iopub.status.idle": "2023-06-28T16:22:52.047170Z",
     "shell.execute_reply": "2023-06-28T16:22:52.046169Z"
    },
    "papermill": {
     "duration": 0.020314,
     "end_time": "2023-06-28T16:22:52.049494",
     "exception": false,
     "start_time": "2023-06-28T16:22:52.029180",
     "status": "completed"
    },
    "tags": []
   },
   "outputs": [
    {
     "name": "stdout",
     "output_type": "stream",
     "text": [
      "/kaggle/input/playground-series-s3e18/sample_submission.csv\n",
      "/kaggle/input/playground-series-s3e18/train.csv\n",
      "/kaggle/input/playground-series-s3e18/test.csv\n"
     ]
    }
   ],
   "source": [
    "# This Python 3 environment comes with many helpful analytics libraries installed\n",
    "# It is defined by the kaggle/python Docker image: https://github.com/kaggle/docker-python\n",
    "# For example, here's several helpful packages to load\n",
    "\n",
    "import numpy as np # linear algebra\n",
    "import pandas as pd # data processing, CSV file I/O (e.g. pd.read_csv)\n",
    "\n",
    "# Input data files are available in the read-only \"../input/\" directory\n",
    "# For example, running this (by clicking run or pressing Shift+Enter) will list all files under the input directory\n",
    "\n",
    "import os\n",
    "for dirname, _, filenames in os.walk('/kaggle/input'):\n",
    "    for filename in filenames:\n",
    "        print(os.path.join(dirname, filename))\n",
    "\n",
    "# You can write up to 20GB to the current directory (/kaggle/working/) that gets preserved as output when you create a version using \"Save & Run All\" \n",
    "# You can also write temporary files to /kaggle/temp/, but they won't be saved outside of the current session"
   ]
  },
  {
   "cell_type": "code",
   "execution_count": 2,
   "id": "2ebf4d72",
   "metadata": {
    "execution": {
     "iopub.execute_input": "2023-06-28T16:22:52.056033Z",
     "iopub.status.busy": "2023-06-28T16:22:52.055119Z",
     "iopub.status.idle": "2023-06-28T16:22:52.059936Z",
     "shell.execute_reply": "2023-06-28T16:22:52.059175Z"
    },
    "papermill": {
     "duration": 0.009983,
     "end_time": "2023-06-28T16:22:52.061820",
     "exception": false,
     "start_time": "2023-06-28T16:22:52.051837",
     "status": "completed"
    },
    "tags": []
   },
   "outputs": [],
   "source": [
    "import pandas as pd\n",
    "import matplotlib.pyplot as plt\n",
    "import warnings\n",
    "warnings.filterwarnings('ignore')"
   ]
  },
  {
   "cell_type": "code",
   "execution_count": 3,
   "id": "82d61762",
   "metadata": {
    "execution": {
     "iopub.execute_input": "2023-06-28T16:22:52.067728Z",
     "iopub.status.busy": "2023-06-28T16:22:52.067120Z",
     "iopub.status.idle": "2023-06-28T16:22:52.334255Z",
     "shell.execute_reply": "2023-06-28T16:22:52.333440Z"
    },
    "papermill": {
     "duration": 0.272609,
     "end_time": "2023-06-28T16:22:52.336547",
     "exception": false,
     "start_time": "2023-06-28T16:22:52.063938",
     "status": "completed"
    },
    "tags": []
   },
   "outputs": [],
   "source": [
    "df_sample_submission=pd.read_csv('/kaggle/input/playground-series-s3e18/sample_submission.csv')\n",
    "df_test=pd.read_csv('/kaggle/input/playground-series-s3e18/test.csv')\n",
    "df_train=pd.read_csv('/kaggle/input/playground-series-s3e18/train.csv')"
   ]
  },
  {
   "cell_type": "code",
   "execution_count": 4,
   "id": "cc002ff1",
   "metadata": {
    "execution": {
     "iopub.execute_input": "2023-06-28T16:22:52.343736Z",
     "iopub.status.busy": "2023-06-28T16:22:52.342014Z",
     "iopub.status.idle": "2023-06-28T16:22:52.372863Z",
     "shell.execute_reply": "2023-06-28T16:22:52.371762Z"
    },
    "papermill": {
     "duration": 0.036544,
     "end_time": "2023-06-28T16:22:52.375350",
     "exception": false,
     "start_time": "2023-06-28T16:22:52.338806",
     "status": "completed"
    },
    "tags": []
   },
   "outputs": [
    {
     "data": {
      "text/html": [
       "<div>\n",
       "<style scoped>\n",
       "    .dataframe tbody tr th:only-of-type {\n",
       "        vertical-align: middle;\n",
       "    }\n",
       "\n",
       "    .dataframe tbody tr th {\n",
       "        vertical-align: top;\n",
       "    }\n",
       "\n",
       "    .dataframe thead th {\n",
       "        text-align: right;\n",
       "    }\n",
       "</style>\n",
       "<table border=\"1\" class=\"dataframe\">\n",
       "  <thead>\n",
       "    <tr style=\"text-align: right;\">\n",
       "      <th></th>\n",
       "      <th>id</th>\n",
       "      <th>EC1</th>\n",
       "      <th>EC2</th>\n",
       "    </tr>\n",
       "  </thead>\n",
       "  <tbody>\n",
       "    <tr>\n",
       "      <th>0</th>\n",
       "      <td>14838</td>\n",
       "      <td>0.5</td>\n",
       "      <td>0.5</td>\n",
       "    </tr>\n",
       "    <tr>\n",
       "      <th>1</th>\n",
       "      <td>14839</td>\n",
       "      <td>0.5</td>\n",
       "      <td>0.5</td>\n",
       "    </tr>\n",
       "    <tr>\n",
       "      <th>2</th>\n",
       "      <td>14840</td>\n",
       "      <td>0.5</td>\n",
       "      <td>0.5</td>\n",
       "    </tr>\n",
       "    <tr>\n",
       "      <th>3</th>\n",
       "      <td>14841</td>\n",
       "      <td>0.5</td>\n",
       "      <td>0.5</td>\n",
       "    </tr>\n",
       "    <tr>\n",
       "      <th>4</th>\n",
       "      <td>14842</td>\n",
       "      <td>0.5</td>\n",
       "      <td>0.5</td>\n",
       "    </tr>\n",
       "  </tbody>\n",
       "</table>\n",
       "</div>"
      ],
      "text/plain": [
       "      id  EC1  EC2\n",
       "0  14838  0.5  0.5\n",
       "1  14839  0.5  0.5\n",
       "2  14840  0.5  0.5\n",
       "3  14841  0.5  0.5\n",
       "4  14842  0.5  0.5"
      ]
     },
     "execution_count": 4,
     "metadata": {},
     "output_type": "execute_result"
    }
   ],
   "source": [
    "df_sample_submission.head()"
   ]
  }
 ],
 "metadata": {
  "kernelspec": {
   "display_name": "Python 3",
   "language": "python",
   "name": "python3"
  },
  "language_info": {
   "codemirror_mode": {
    "name": "ipython",
    "version": 3
   },
   "file_extension": ".py",
   "mimetype": "text/x-python",
   "name": "python",
   "nbconvert_exporter": "python",
   "pygments_lexer": "ipython3",
   "version": "3.10.10"
  },
  "papermill": {
   "default_parameters": {},
   "duration": 11.253345,
   "end_time": "2023-06-28T16:22:53.198500",
   "environment_variables": {},
   "exception": null,
   "input_path": "__notebook__.ipynb",
   "output_path": "__notebook__.ipynb",
   "parameters": {},
   "start_time": "2023-06-28T16:22:41.945155",
   "version": "2.4.0"
  }
 },
 "nbformat": 4,
 "nbformat_minor": 5
}
