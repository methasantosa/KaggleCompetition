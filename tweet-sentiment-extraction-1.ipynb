{
 "cells": [
  {
   "cell_type": "code",
   "execution_count": 1,
   "id": "d328025c",
   "metadata": {
    "_cell_guid": "b1076dfc-b9ad-4769-8c92-a6c4dae69d19",
    "_uuid": "8f2839f25d086af736a60e9eeb907d3b93b6e0e5",
    "execution": {
     "iopub.execute_input": "2022-11-05T10:29:24.767825Z",
     "iopub.status.busy": "2022-11-05T10:29:24.766913Z",
     "iopub.status.idle": "2022-11-05T10:29:34.620599Z",
     "shell.execute_reply": "2022-11-05T10:29:34.619163Z"
    },
    "papermill": {
     "duration": 9.865037,
     "end_time": "2022-11-05T10:29:34.624607",
     "exception": false,
     "start_time": "2022-11-05T10:29:24.759570",
     "status": "completed"
    },
    "tags": []
   },
   "outputs": [
    {
     "name": "stdout",
     "output_type": "stream",
     "text": [
      "/kaggle/input/tweet-sentiment-extraction/sample_submission.csv\n",
      "/kaggle/input/tweet-sentiment-extraction/train.csv\n",
      "/kaggle/input/tweet-sentiment-extraction/test.csv\n"
     ]
    }
   ],
   "source": [
    "# This Python 3 environment comes with many helpful analytics libraries installed\n",
    "# It is defined by the kaggle/python Docker image: https://github.com/kaggle/docker-python\n",
    "# For example, here's several helpful packages to load\n",
    "\n",
    "import numpy as np # linear algebra\n",
    "import pandas as pd # data processing, CSV file I/O (e.g. pd.read_csv)\n",
    "import pickle\n",
    "from matplotlib import pyplot as plt\n",
    "import seaborn as sns\n",
    "import plotly.express as px\n",
    "import warnings\n",
    "warnings.filterwarnings(\"ignore\")\n",
    "import string\n",
    "import re\n",
    "import nltk\n",
    "import collections\n",
    "import tensorflow as tf\n",
    "import fuzzywuzzy as fuzz\n",
    "\n",
    "# Input data files are available in the read-only \"../input/\" directory\n",
    "# For example, running this (by clicking run or pressing Shift+Enter) will list all files under the input directory\n",
    "\n",
    "import os\n",
    "for dirname, _, filenames in os.walk('/kaggle/input'):\n",
    "    for filename in filenames:\n",
    "        print(os.path.join(dirname, filename))\n",
    "\n",
    "# You can write up to 20GB to the current directory (/kaggle/working/) that gets preserved as output when you create a version using \"Save & Run All\" \n",
    "# You can also write temporary files to /kaggle/temp/, but they won't be saved outside of the current session"
   ]
  },
  {
   "cell_type": "markdown",
   "id": "7a402f37",
   "metadata": {
    "papermill": {
     "duration": 0.004291,
     "end_time": "2022-11-05T10:29:34.633875",
     "exception": false,
     "start_time": "2022-11-05T10:29:34.629584",
     "status": "completed"
    },
    "tags": []
   },
   "source": [
    "#Import Libraries"
   ]
  },
  {
   "cell_type": "code",
   "execution_count": 2,
   "id": "61a9c5d8",
   "metadata": {
    "execution": {
     "iopub.execute_input": "2022-11-05T10:29:34.645178Z",
     "iopub.status.busy": "2022-11-05T10:29:34.643867Z",
     "iopub.status.idle": "2022-11-05T10:29:48.217035Z",
     "shell.execute_reply": "2022-11-05T10:29:48.215416Z"
    },
    "papermill": {
     "duration": 13.582454,
     "end_time": "2022-11-05T10:29:48.220573",
     "exception": false,
     "start_time": "2022-11-05T10:29:34.638119",
     "status": "completed"
    },
    "tags": []
   },
   "outputs": [
    {
     "name": "stdout",
     "output_type": "stream",
     "text": [
      "Requirement already satisfied: fuzzywuzzy in /opt/conda/lib/python3.7/site-packages (0.18.0)\r\n",
      "\u001b[33mWARNING: Running pip as the 'root' user can result in broken permissions and conflicting behaviour with the system package manager. It is recommended to use a virtual environment instead: https://pip.pypa.io/warnings/venv\u001b[0m\u001b[33m\r\n",
      "\u001b[0mNote: you may need to restart the kernel to use updated packages.\n"
     ]
    }
   ],
   "source": [
    "pip install fuzzywuzzy"
   ]
  },
  {
   "cell_type": "code",
   "execution_count": 3,
   "id": "4da3c011",
   "metadata": {
    "execution": {
     "iopub.execute_input": "2022-11-05T10:29:48.232499Z",
     "iopub.status.busy": "2022-11-05T10:29:48.232054Z",
     "iopub.status.idle": "2022-11-05T10:29:48.417513Z",
     "shell.execute_reply": "2022-11-05T10:29:48.416098Z"
    },
    "papermill": {
     "duration": 0.195093,
     "end_time": "2022-11-05T10:29:48.420340",
     "exception": false,
     "start_time": "2022-11-05T10:29:48.225247",
     "status": "completed"
    },
    "tags": []
   },
   "outputs": [],
   "source": [
    "train = pd.read_csv('/kaggle/input/tweet-sentiment-extraction/train.csv')\n",
    "test = pd.read_csv('/kaggle/input/tweet-sentiment-extraction/test.csv')\n",
    "ss = pd.read_csv('/kaggle/input/tweet-sentiment-extraction/sample_submission.csv')"
   ]
  },
  {
   "cell_type": "code",
   "execution_count": 4,
   "id": "499a89d1",
   "metadata": {
    "execution": {
     "iopub.execute_input": "2022-11-05T10:29:48.431114Z",
     "iopub.status.busy": "2022-11-05T10:29:48.430689Z",
     "iopub.status.idle": "2022-11-05T10:29:48.459030Z",
     "shell.execute_reply": "2022-11-05T10:29:48.457691Z"
    },
    "papermill": {
     "duration": 0.037011,
     "end_time": "2022-11-05T10:29:48.461699",
     "exception": false,
     "start_time": "2022-11-05T10:29:48.424688",
     "status": "completed"
    },
    "tags": []
   },
   "outputs": [
    {
     "data": {
      "text/html": [
       "<div>\n",
       "<style scoped>\n",
       "    .dataframe tbody tr th:only-of-type {\n",
       "        vertical-align: middle;\n",
       "    }\n",
       "\n",
       "    .dataframe tbody tr th {\n",
       "        vertical-align: top;\n",
       "    }\n",
       "\n",
       "    .dataframe thead th {\n",
       "        text-align: right;\n",
       "    }\n",
       "</style>\n",
       "<table border=\"1\" class=\"dataframe\">\n",
       "  <thead>\n",
       "    <tr style=\"text-align: right;\">\n",
       "      <th></th>\n",
       "      <th>textID</th>\n",
       "      <th>text</th>\n",
       "      <th>selected_text</th>\n",
       "      <th>sentiment</th>\n",
       "    </tr>\n",
       "  </thead>\n",
       "  <tbody>\n",
       "    <tr>\n",
       "      <th>0</th>\n",
       "      <td>cb774db0d1</td>\n",
       "      <td>I`d have responded, if I were going</td>\n",
       "      <td>I`d have responded, if I were going</td>\n",
       "      <td>neutral</td>\n",
       "    </tr>\n",
       "    <tr>\n",
       "      <th>1</th>\n",
       "      <td>549e992a42</td>\n",
       "      <td>Sooo SAD I will miss you here in San Diego!!!</td>\n",
       "      <td>Sooo SAD</td>\n",
       "      <td>negative</td>\n",
       "    </tr>\n",
       "    <tr>\n",
       "      <th>2</th>\n",
       "      <td>088c60f138</td>\n",
       "      <td>my boss is bullying me...</td>\n",
       "      <td>bullying me</td>\n",
       "      <td>negative</td>\n",
       "    </tr>\n",
       "    <tr>\n",
       "      <th>3</th>\n",
       "      <td>9642c003ef</td>\n",
       "      <td>what interview! leave me alone</td>\n",
       "      <td>leave me alone</td>\n",
       "      <td>negative</td>\n",
       "    </tr>\n",
       "    <tr>\n",
       "      <th>4</th>\n",
       "      <td>358bd9e861</td>\n",
       "      <td>Sons of ****, why couldn`t they put them on t...</td>\n",
       "      <td>Sons of ****,</td>\n",
       "      <td>negative</td>\n",
       "    </tr>\n",
       "  </tbody>\n",
       "</table>\n",
       "</div>"
      ],
      "text/plain": [
       "       textID                                               text  \\\n",
       "0  cb774db0d1                I`d have responded, if I were going   \n",
       "1  549e992a42      Sooo SAD I will miss you here in San Diego!!!   \n",
       "2  088c60f138                          my boss is bullying me...   \n",
       "3  9642c003ef                     what interview! leave me alone   \n",
       "4  358bd9e861   Sons of ****, why couldn`t they put them on t...   \n",
       "\n",
       "                         selected_text sentiment  \n",
       "0  I`d have responded, if I were going   neutral  \n",
       "1                             Sooo SAD  negative  \n",
       "2                          bullying me  negative  \n",
       "3                       leave me alone  negative  \n",
       "4                        Sons of ****,  negative  "
      ]
     },
     "execution_count": 4,
     "metadata": {},
     "output_type": "execute_result"
    }
   ],
   "source": [
    "train.head()"
   ]
  },
  {
   "cell_type": "code",
   "execution_count": 5,
   "id": "5c66de97",
   "metadata": {
    "execution": {
     "iopub.execute_input": "2022-11-05T10:29:48.472665Z",
     "iopub.status.busy": "2022-11-05T10:29:48.472172Z",
     "iopub.status.idle": "2022-11-05T10:29:48.484729Z",
     "shell.execute_reply": "2022-11-05T10:29:48.483442Z"
    },
    "papermill": {
     "duration": 0.021158,
     "end_time": "2022-11-05T10:29:48.487424",
     "exception": false,
     "start_time": "2022-11-05T10:29:48.466266",
     "status": "completed"
    },
    "tags": []
   },
   "outputs": [
    {
     "data": {
      "text/html": [
       "<div>\n",
       "<style scoped>\n",
       "    .dataframe tbody tr th:only-of-type {\n",
       "        vertical-align: middle;\n",
       "    }\n",
       "\n",
       "    .dataframe tbody tr th {\n",
       "        vertical-align: top;\n",
       "    }\n",
       "\n",
       "    .dataframe thead th {\n",
       "        text-align: right;\n",
       "    }\n",
       "</style>\n",
       "<table border=\"1\" class=\"dataframe\">\n",
       "  <thead>\n",
       "    <tr style=\"text-align: right;\">\n",
       "      <th></th>\n",
       "      <th>textID</th>\n",
       "      <th>text</th>\n",
       "      <th>sentiment</th>\n",
       "    </tr>\n",
       "  </thead>\n",
       "  <tbody>\n",
       "    <tr>\n",
       "      <th>0</th>\n",
       "      <td>f87dea47db</td>\n",
       "      <td>Last session of the day  http://twitpic.com/67ezh</td>\n",
       "      <td>neutral</td>\n",
       "    </tr>\n",
       "    <tr>\n",
       "      <th>1</th>\n",
       "      <td>96d74cb729</td>\n",
       "      <td>Shanghai is also really exciting (precisely -...</td>\n",
       "      <td>positive</td>\n",
       "    </tr>\n",
       "    <tr>\n",
       "      <th>2</th>\n",
       "      <td>eee518ae67</td>\n",
       "      <td>Recession hit Veronique Branquinho, she has to...</td>\n",
       "      <td>negative</td>\n",
       "    </tr>\n",
       "    <tr>\n",
       "      <th>3</th>\n",
       "      <td>01082688c6</td>\n",
       "      <td>happy bday!</td>\n",
       "      <td>positive</td>\n",
       "    </tr>\n",
       "    <tr>\n",
       "      <th>4</th>\n",
       "      <td>33987a8ee5</td>\n",
       "      <td>http://twitpic.com/4w75p - I like it!!</td>\n",
       "      <td>positive</td>\n",
       "    </tr>\n",
       "  </tbody>\n",
       "</table>\n",
       "</div>"
      ],
      "text/plain": [
       "       textID                                               text sentiment\n",
       "0  f87dea47db  Last session of the day  http://twitpic.com/67ezh   neutral\n",
       "1  96d74cb729   Shanghai is also really exciting (precisely -...  positive\n",
       "2  eee518ae67  Recession hit Veronique Branquinho, she has to...  negative\n",
       "3  01082688c6                                        happy bday!  positive\n",
       "4  33987a8ee5             http://twitpic.com/4w75p - I like it!!  positive"
      ]
     },
     "execution_count": 5,
     "metadata": {},
     "output_type": "execute_result"
    }
   ],
   "source": [
    "test.head()"
   ]
  },
  {
   "cell_type": "code",
   "execution_count": 6,
   "id": "081a9373",
   "metadata": {
    "execution": {
     "iopub.execute_input": "2022-11-05T10:29:48.498682Z",
     "iopub.status.busy": "2022-11-05T10:29:48.498222Z",
     "iopub.status.idle": "2022-11-05T10:29:48.504664Z",
     "shell.execute_reply": "2022-11-05T10:29:48.503071Z"
    },
    "papermill": {
     "duration": 0.015815,
     "end_time": "2022-11-05T10:29:48.508086",
     "exception": false,
     "start_time": "2022-11-05T10:29:48.492271",
     "status": "completed"
    },
    "tags": []
   },
   "outputs": [
    {
     "name": "stdout",
     "output_type": "stream",
     "text": [
      "train shape:  (27481, 4)\n",
      "test shape:  (3534, 3)\n"
     ]
    }
   ],
   "source": [
    "print(\"train shape: \", train.shape)\n",
    "print(\"test shape: \", test.shape)"
   ]
  },
  {
   "cell_type": "code",
   "execution_count": 7,
   "id": "291cb2d8",
   "metadata": {
    "execution": {
     "iopub.execute_input": "2022-11-05T10:29:48.520545Z",
     "iopub.status.busy": "2022-11-05T10:29:48.519345Z",
     "iopub.status.idle": "2022-11-05T10:29:48.553984Z",
     "shell.execute_reply": "2022-11-05T10:29:48.552563Z"
    },
    "papermill": {
     "duration": 0.043244,
     "end_time": "2022-11-05T10:29:48.556554",
     "exception": false,
     "start_time": "2022-11-05T10:29:48.513310",
     "status": "completed"
    },
    "tags": []
   },
   "outputs": [
    {
     "name": "stdout",
     "output_type": "stream",
     "text": [
      "<class 'pandas.core.frame.DataFrame'>\n",
      "RangeIndex: 27481 entries, 0 to 27480\n",
      "Data columns (total 4 columns):\n",
      " #   Column         Non-Null Count  Dtype \n",
      "---  ------         --------------  ----- \n",
      " 0   textID         27481 non-null  object\n",
      " 1   text           27480 non-null  object\n",
      " 2   selected_text  27480 non-null  object\n",
      " 3   sentiment      27481 non-null  object\n",
      "dtypes: object(4)\n",
      "memory usage: 858.9+ KB\n"
     ]
    }
   ],
   "source": [
    "train.info()"
   ]
  },
  {
   "cell_type": "code",
   "execution_count": 8,
   "id": "03547fca",
   "metadata": {
    "execution": {
     "iopub.execute_input": "2022-11-05T10:29:48.568458Z",
     "iopub.status.busy": "2022-11-05T10:29:48.567188Z",
     "iopub.status.idle": "2022-11-05T10:29:48.584706Z",
     "shell.execute_reply": "2022-11-05T10:29:48.582870Z"
    },
    "papermill": {
     "duration": 0.026613,
     "end_time": "2022-11-05T10:29:48.587855",
     "exception": false,
     "start_time": "2022-11-05T10:29:48.561242",
     "status": "completed"
    },
    "tags": []
   },
   "outputs": [
    {
     "name": "stdout",
     "output_type": "stream",
     "text": [
      "<class 'pandas.core.frame.DataFrame'>\n",
      "RangeIndex: 3534 entries, 0 to 3533\n",
      "Data columns (total 3 columns):\n",
      " #   Column     Non-Null Count  Dtype \n",
      "---  ------     --------------  ----- \n",
      " 0   textID     3534 non-null   object\n",
      " 1   text       3534 non-null   object\n",
      " 2   sentiment  3534 non-null   object\n",
      "dtypes: object(3)\n",
      "memory usage: 83.0+ KB\n"
     ]
    }
   ],
   "source": [
    "test.info()"
   ]
  },
  {
   "cell_type": "code",
   "execution_count": 9,
   "id": "8162d9b1",
   "metadata": {
    "execution": {
     "iopub.execute_input": "2022-11-05T10:29:48.599233Z",
     "iopub.status.busy": "2022-11-05T10:29:48.598834Z",
     "iopub.status.idle": "2022-11-05T10:29:48.614665Z",
     "shell.execute_reply": "2022-11-05T10:29:48.613366Z"
    },
    "papermill": {
     "duration": 0.024447,
     "end_time": "2022-11-05T10:29:48.617152",
     "exception": false,
     "start_time": "2022-11-05T10:29:48.592705",
     "status": "completed"
    },
    "tags": []
   },
   "outputs": [
    {
     "data": {
      "text/plain": [
       "textID           0\n",
       "text             1\n",
       "selected_text    1\n",
       "sentiment        0\n",
       "dtype: int64"
      ]
     },
     "execution_count": 9,
     "metadata": {},
     "output_type": "execute_result"
    }
   ],
   "source": [
    "train.isnull().sum()"
   ]
  },
  {
   "cell_type": "code",
   "execution_count": 10,
   "id": "a9429d99",
   "metadata": {
    "execution": {
     "iopub.execute_input": "2022-11-05T10:29:48.629553Z",
     "iopub.status.busy": "2022-11-05T10:29:48.628352Z",
     "iopub.status.idle": "2022-11-05T10:29:48.644865Z",
     "shell.execute_reply": "2022-11-05T10:29:48.643261Z"
    },
    "papermill": {
     "duration": 0.025857,
     "end_time": "2022-11-05T10:29:48.647884",
     "exception": false,
     "start_time": "2022-11-05T10:29:48.622027",
     "status": "completed"
    },
    "tags": []
   },
   "outputs": [],
   "source": [
    "train.dropna(inplace=True)"
   ]
  },
  {
   "cell_type": "code",
   "execution_count": 11,
   "id": "5e7d76ba",
   "metadata": {
    "execution": {
     "iopub.execute_input": "2022-11-05T10:29:48.660021Z",
     "iopub.status.busy": "2022-11-05T10:29:48.659285Z",
     "iopub.status.idle": "2022-11-05T10:29:48.666437Z",
     "shell.execute_reply": "2022-11-05T10:29:48.665462Z"
    },
    "papermill": {
     "duration": 0.015857,
     "end_time": "2022-11-05T10:29:48.668683",
     "exception": false,
     "start_time": "2022-11-05T10:29:48.652826",
     "status": "completed"
    },
    "tags": []
   },
   "outputs": [
    {
     "data": {
      "text/plain": [
       "(27480, 4)"
      ]
     },
     "execution_count": 11,
     "metadata": {},
     "output_type": "execute_result"
    }
   ],
   "source": [
    "train.shape"
   ]
  },
  {
   "cell_type": "code",
   "execution_count": null,
   "id": "b1c675f1",
   "metadata": {
    "papermill": {
     "duration": 0.004551,
     "end_time": "2022-11-05T10:29:48.678254",
     "exception": false,
     "start_time": "2022-11-05T10:29:48.673703",
     "status": "completed"
    },
    "tags": []
   },
   "outputs": [],
   "source": []
  }
 ],
 "metadata": {
  "kernelspec": {
   "display_name": "Python 3",
   "language": "python",
   "name": "python3"
  },
  "language_info": {
   "codemirror_mode": {
    "name": "ipython",
    "version": 3
   },
   "file_extension": ".py",
   "mimetype": "text/x-python",
   "name": "python",
   "nbconvert_exporter": "python",
   "pygments_lexer": "ipython3",
   "version": "3.7.12"
  },
  "papermill": {
   "default_parameters": {},
   "duration": 38.550893,
   "end_time": "2022-11-05T10:29:51.769130",
   "environment_variables": {},
   "exception": null,
   "input_path": "__notebook__.ipynb",
   "output_path": "__notebook__.ipynb",
   "parameters": {},
   "start_time": "2022-11-05T10:29:13.218237",
   "version": "2.3.4"
  }
 },
 "nbformat": 4,
 "nbformat_minor": 5
}
