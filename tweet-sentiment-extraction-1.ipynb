{
 "cells": [
  {
   "cell_type": "code",
   "execution_count": 1,
   "id": "6c6dd19d",
   "metadata": {
    "_cell_guid": "b1076dfc-b9ad-4769-8c92-a6c4dae69d19",
    "_uuid": "8f2839f25d086af736a60e9eeb907d3b93b6e0e5",
    "execution": {
     "iopub.execute_input": "2022-11-05T17:10:16.726076Z",
     "iopub.status.busy": "2022-11-05T17:10:16.725462Z",
     "iopub.status.idle": "2022-11-05T17:10:24.791226Z",
     "shell.execute_reply": "2022-11-05T17:10:24.789109Z"
    },
    "papermill": {
     "duration": 8.076829,
     "end_time": "2022-11-05T17:10:24.794439",
     "exception": false,
     "start_time": "2022-11-05T17:10:16.717610",
     "status": "completed"
    },
    "tags": []
   },
   "outputs": [
    {
     "name": "stdout",
     "output_type": "stream",
     "text": [
      "/kaggle/input/tweet-sentiment-extraction/sample_submission.csv\n",
      "/kaggle/input/tweet-sentiment-extraction/train.csv\n",
      "/kaggle/input/tweet-sentiment-extraction/test.csv\n"
     ]
    }
   ],
   "source": [
    "# This Python 3 environment comes with many helpful analytics libraries installed\n",
    "# It is defined by the kaggle/python Docker image: https://github.com/kaggle/docker-python\n",
    "# For example, here's several helpful packages to load\n",
    "\n",
    "import numpy as np # linear algebra\n",
    "import pandas as pd # data processing, CSV file I/O (e.g. pd.read_csv)\n",
    "import pickle\n",
    "from matplotlib import pyplot as plt\n",
    "import seaborn as sns\n",
    "import plotly.express as px\n",
    "import warnings\n",
    "warnings.filterwarnings(\"ignore\")\n",
    "import string\n",
    "import re\n",
    "import nltk\n",
    "import collections\n",
    "import tensorflow as tf\n",
    "import fuzzywuzzy as fuzz\n",
    "\n",
    "# Input data files are available in the read-only \"../input/\" directory\n",
    "# For example, running this (by clicking run or pressing Shift+Enter) will list all files under the input directory\n",
    "\n",
    "import os\n",
    "for dirname, _, filenames in os.walk('/kaggle/input'):\n",
    "    for filename in filenames:\n",
    "        print(os.path.join(dirname, filename))\n",
    "\n",
    "# You can write up to 20GB to the current directory (/kaggle/working/) that gets preserved as output when you create a version using \"Save & Run All\" \n",
    "# You can also write temporary files to /kaggle/temp/, but they won't be saved outside of the current session"
   ]
  },
  {
   "cell_type": "markdown",
   "id": "adabee34",
   "metadata": {
    "papermill": {
     "duration": 0.005636,
     "end_time": "2022-11-05T17:10:24.806350",
     "exception": false,
     "start_time": "2022-11-05T17:10:24.800714",
     "status": "completed"
    },
    "tags": []
   },
   "source": [
    "#Import Libraries"
   ]
  },
  {
   "cell_type": "code",
   "execution_count": 2,
   "id": "6dc39c98",
   "metadata": {
    "execution": {
     "iopub.execute_input": "2022-11-05T17:10:24.819956Z",
     "iopub.status.busy": "2022-11-05T17:10:24.819185Z",
     "iopub.status.idle": "2022-11-05T17:10:35.142069Z",
     "shell.execute_reply": "2022-11-05T17:10:35.141217Z"
    },
    "papermill": {
     "duration": 10.332147,
     "end_time": "2022-11-05T17:10:35.144152",
     "exception": false,
     "start_time": "2022-11-05T17:10:24.812005",
     "status": "completed"
    },
    "tags": []
   },
   "outputs": [
    {
     "name": "stdout",
     "output_type": "stream",
     "text": [
      "Requirement already satisfied: fuzzywuzzy in /opt/conda/lib/python3.7/site-packages (0.18.0)\r\n",
      "\u001b[33mWARNING: Running pip as the 'root' user can result in broken permissions and conflicting behaviour with the system package manager. It is recommended to use a virtual environment instead: https://pip.pypa.io/warnings/venv\u001b[0m\u001b[33m\r\n",
      "\u001b[0mNote: you may need to restart the kernel to use updated packages.\n"
     ]
    }
   ],
   "source": [
    "pip install fuzzywuzzy"
   ]
  },
  {
   "cell_type": "code",
   "execution_count": 3,
   "id": "556a7109",
   "metadata": {
    "execution": {
     "iopub.execute_input": "2022-11-05T17:10:35.157657Z",
     "iopub.status.busy": "2022-11-05T17:10:35.157242Z",
     "iopub.status.idle": "2022-11-05T17:10:35.302651Z",
     "shell.execute_reply": "2022-11-05T17:10:35.301454Z"
    },
    "papermill": {
     "duration": 0.154478,
     "end_time": "2022-11-05T17:10:35.304888",
     "exception": false,
     "start_time": "2022-11-05T17:10:35.150410",
     "status": "completed"
    },
    "tags": []
   },
   "outputs": [],
   "source": [
    "train = pd.read_csv('/kaggle/input/tweet-sentiment-extraction/train.csv')\n",
    "test = pd.read_csv('/kaggle/input/tweet-sentiment-extraction/test.csv')\n",
    "ss = pd.read_csv('/kaggle/input/tweet-sentiment-extraction/sample_submission.csv')"
   ]
  },
  {
   "cell_type": "code",
   "execution_count": 4,
   "id": "1b47b8ae",
   "metadata": {
    "execution": {
     "iopub.execute_input": "2022-11-05T17:10:35.317321Z",
     "iopub.status.busy": "2022-11-05T17:10:35.316958Z",
     "iopub.status.idle": "2022-11-05T17:10:35.339181Z",
     "shell.execute_reply": "2022-11-05T17:10:35.338158Z"
    },
    "papermill": {
     "duration": 0.031207,
     "end_time": "2022-11-05T17:10:35.341712",
     "exception": false,
     "start_time": "2022-11-05T17:10:35.310505",
     "status": "completed"
    },
    "tags": []
   },
   "outputs": [
    {
     "data": {
      "text/html": [
       "<div>\n",
       "<style scoped>\n",
       "    .dataframe tbody tr th:only-of-type {\n",
       "        vertical-align: middle;\n",
       "    }\n",
       "\n",
       "    .dataframe tbody tr th {\n",
       "        vertical-align: top;\n",
       "    }\n",
       "\n",
       "    .dataframe thead th {\n",
       "        text-align: right;\n",
       "    }\n",
       "</style>\n",
       "<table border=\"1\" class=\"dataframe\">\n",
       "  <thead>\n",
       "    <tr style=\"text-align: right;\">\n",
       "      <th></th>\n",
       "      <th>textID</th>\n",
       "      <th>text</th>\n",
       "      <th>selected_text</th>\n",
       "      <th>sentiment</th>\n",
       "    </tr>\n",
       "  </thead>\n",
       "  <tbody>\n",
       "    <tr>\n",
       "      <th>0</th>\n",
       "      <td>cb774db0d1</td>\n",
       "      <td>I`d have responded, if I were going</td>\n",
       "      <td>I`d have responded, if I were going</td>\n",
       "      <td>neutral</td>\n",
       "    </tr>\n",
       "    <tr>\n",
       "      <th>1</th>\n",
       "      <td>549e992a42</td>\n",
       "      <td>Sooo SAD I will miss you here in San Diego!!!</td>\n",
       "      <td>Sooo SAD</td>\n",
       "      <td>negative</td>\n",
       "    </tr>\n",
       "    <tr>\n",
       "      <th>2</th>\n",
       "      <td>088c60f138</td>\n",
       "      <td>my boss is bullying me...</td>\n",
       "      <td>bullying me</td>\n",
       "      <td>negative</td>\n",
       "    </tr>\n",
       "    <tr>\n",
       "      <th>3</th>\n",
       "      <td>9642c003ef</td>\n",
       "      <td>what interview! leave me alone</td>\n",
       "      <td>leave me alone</td>\n",
       "      <td>negative</td>\n",
       "    </tr>\n",
       "    <tr>\n",
       "      <th>4</th>\n",
       "      <td>358bd9e861</td>\n",
       "      <td>Sons of ****, why couldn`t they put them on t...</td>\n",
       "      <td>Sons of ****,</td>\n",
       "      <td>negative</td>\n",
       "    </tr>\n",
       "  </tbody>\n",
       "</table>\n",
       "</div>"
      ],
      "text/plain": [
       "       textID                                               text  \\\n",
       "0  cb774db0d1                I`d have responded, if I were going   \n",
       "1  549e992a42      Sooo SAD I will miss you here in San Diego!!!   \n",
       "2  088c60f138                          my boss is bullying me...   \n",
       "3  9642c003ef                     what interview! leave me alone   \n",
       "4  358bd9e861   Sons of ****, why couldn`t they put them on t...   \n",
       "\n",
       "                         selected_text sentiment  \n",
       "0  I`d have responded, if I were going   neutral  \n",
       "1                             Sooo SAD  negative  \n",
       "2                          bullying me  negative  \n",
       "3                       leave me alone  negative  \n",
       "4                        Sons of ****,  negative  "
      ]
     },
     "execution_count": 4,
     "metadata": {},
     "output_type": "execute_result"
    }
   ],
   "source": [
    "train.head()"
   ]
  },
  {
   "cell_type": "code",
   "execution_count": 5,
   "id": "78c39d93",
   "metadata": {
    "execution": {
     "iopub.execute_input": "2022-11-05T17:10:35.355351Z",
     "iopub.status.busy": "2022-11-05T17:10:35.354755Z",
     "iopub.status.idle": "2022-11-05T17:10:35.365257Z",
     "shell.execute_reply": "2022-11-05T17:10:35.364382Z"
    },
    "papermill": {
     "duration": 0.019382,
     "end_time": "2022-11-05T17:10:35.367168",
     "exception": false,
     "start_time": "2022-11-05T17:10:35.347786",
     "status": "completed"
    },
    "tags": []
   },
   "outputs": [
    {
     "data": {
      "text/html": [
       "<div>\n",
       "<style scoped>\n",
       "    .dataframe tbody tr th:only-of-type {\n",
       "        vertical-align: middle;\n",
       "    }\n",
       "\n",
       "    .dataframe tbody tr th {\n",
       "        vertical-align: top;\n",
       "    }\n",
       "\n",
       "    .dataframe thead th {\n",
       "        text-align: right;\n",
       "    }\n",
       "</style>\n",
       "<table border=\"1\" class=\"dataframe\">\n",
       "  <thead>\n",
       "    <tr style=\"text-align: right;\">\n",
       "      <th></th>\n",
       "      <th>textID</th>\n",
       "      <th>text</th>\n",
       "      <th>sentiment</th>\n",
       "    </tr>\n",
       "  </thead>\n",
       "  <tbody>\n",
       "    <tr>\n",
       "      <th>0</th>\n",
       "      <td>f87dea47db</td>\n",
       "      <td>Last session of the day  http://twitpic.com/67ezh</td>\n",
       "      <td>neutral</td>\n",
       "    </tr>\n",
       "    <tr>\n",
       "      <th>1</th>\n",
       "      <td>96d74cb729</td>\n",
       "      <td>Shanghai is also really exciting (precisely -...</td>\n",
       "      <td>positive</td>\n",
       "    </tr>\n",
       "    <tr>\n",
       "      <th>2</th>\n",
       "      <td>eee518ae67</td>\n",
       "      <td>Recession hit Veronique Branquinho, she has to...</td>\n",
       "      <td>negative</td>\n",
       "    </tr>\n",
       "    <tr>\n",
       "      <th>3</th>\n",
       "      <td>01082688c6</td>\n",
       "      <td>happy bday!</td>\n",
       "      <td>positive</td>\n",
       "    </tr>\n",
       "    <tr>\n",
       "      <th>4</th>\n",
       "      <td>33987a8ee5</td>\n",
       "      <td>http://twitpic.com/4w75p - I like it!!</td>\n",
       "      <td>positive</td>\n",
       "    </tr>\n",
       "  </tbody>\n",
       "</table>\n",
       "</div>"
      ],
      "text/plain": [
       "       textID                                               text sentiment\n",
       "0  f87dea47db  Last session of the day  http://twitpic.com/67ezh   neutral\n",
       "1  96d74cb729   Shanghai is also really exciting (precisely -...  positive\n",
       "2  eee518ae67  Recession hit Veronique Branquinho, she has to...  negative\n",
       "3  01082688c6                                        happy bday!  positive\n",
       "4  33987a8ee5             http://twitpic.com/4w75p - I like it!!  positive"
      ]
     },
     "execution_count": 5,
     "metadata": {},
     "output_type": "execute_result"
    }
   ],
   "source": [
    "test.head()"
   ]
  },
  {
   "cell_type": "code",
   "execution_count": 6,
   "id": "b36f34a5",
   "metadata": {
    "execution": {
     "iopub.execute_input": "2022-11-05T17:10:35.380853Z",
     "iopub.status.busy": "2022-11-05T17:10:35.380477Z",
     "iopub.status.idle": "2022-11-05T17:10:35.385730Z",
     "shell.execute_reply": "2022-11-05T17:10:35.384812Z"
    },
    "papermill": {
     "duration": 0.014971,
     "end_time": "2022-11-05T17:10:35.388336",
     "exception": false,
     "start_time": "2022-11-05T17:10:35.373365",
     "status": "completed"
    },
    "tags": []
   },
   "outputs": [
    {
     "name": "stdout",
     "output_type": "stream",
     "text": [
      "train shape:  (27481, 4)\n",
      "test shape:  (3534, 3)\n"
     ]
    }
   ],
   "source": [
    "print(\"train shape: \", train.shape)\n",
    "print(\"test shape: \", test.shape)"
   ]
  },
  {
   "cell_type": "code",
   "execution_count": 7,
   "id": "c394d1bc",
   "metadata": {
    "execution": {
     "iopub.execute_input": "2022-11-05T17:10:35.403509Z",
     "iopub.status.busy": "2022-11-05T17:10:35.403129Z",
     "iopub.status.idle": "2022-11-05T17:10:35.434380Z",
     "shell.execute_reply": "2022-11-05T17:10:35.432756Z"
    },
    "papermill": {
     "duration": 0.042059,
     "end_time": "2022-11-05T17:10:35.436558",
     "exception": false,
     "start_time": "2022-11-05T17:10:35.394499",
     "status": "completed"
    },
    "tags": []
   },
   "outputs": [
    {
     "name": "stdout",
     "output_type": "stream",
     "text": [
      "<class 'pandas.core.frame.DataFrame'>\n",
      "RangeIndex: 27481 entries, 0 to 27480\n",
      "Data columns (total 4 columns):\n",
      " #   Column         Non-Null Count  Dtype \n",
      "---  ------         --------------  ----- \n",
      " 0   textID         27481 non-null  object\n",
      " 1   text           27480 non-null  object\n",
      " 2   selected_text  27480 non-null  object\n",
      " 3   sentiment      27481 non-null  object\n",
      "dtypes: object(4)\n",
      "memory usage: 858.9+ KB\n"
     ]
    }
   ],
   "source": [
    "train.info()"
   ]
  },
  {
   "cell_type": "code",
   "execution_count": 8,
   "id": "1296e6d2",
   "metadata": {
    "execution": {
     "iopub.execute_input": "2022-11-05T17:10:35.450840Z",
     "iopub.status.busy": "2022-11-05T17:10:35.450450Z",
     "iopub.status.idle": "2022-11-05T17:10:35.464632Z",
     "shell.execute_reply": "2022-11-05T17:10:35.463085Z"
    },
    "papermill": {
     "duration": 0.024035,
     "end_time": "2022-11-05T17:10:35.467012",
     "exception": false,
     "start_time": "2022-11-05T17:10:35.442977",
     "status": "completed"
    },
    "tags": []
   },
   "outputs": [
    {
     "name": "stdout",
     "output_type": "stream",
     "text": [
      "<class 'pandas.core.frame.DataFrame'>\n",
      "RangeIndex: 3534 entries, 0 to 3533\n",
      "Data columns (total 3 columns):\n",
      " #   Column     Non-Null Count  Dtype \n",
      "---  ------     --------------  ----- \n",
      " 0   textID     3534 non-null   object\n",
      " 1   text       3534 non-null   object\n",
      " 2   sentiment  3534 non-null   object\n",
      "dtypes: object(3)\n",
      "memory usage: 83.0+ KB\n"
     ]
    }
   ],
   "source": [
    "test.info()"
   ]
  },
  {
   "cell_type": "code",
   "execution_count": 9,
   "id": "95005254",
   "metadata": {
    "execution": {
     "iopub.execute_input": "2022-11-05T17:10:35.481436Z",
     "iopub.status.busy": "2022-11-05T17:10:35.481083Z",
     "iopub.status.idle": "2022-11-05T17:10:35.494626Z",
     "shell.execute_reply": "2022-11-05T17:10:35.493307Z"
    },
    "papermill": {
     "duration": 0.022809,
     "end_time": "2022-11-05T17:10:35.496471",
     "exception": false,
     "start_time": "2022-11-05T17:10:35.473662",
     "status": "completed"
    },
    "tags": []
   },
   "outputs": [
    {
     "data": {
      "text/plain": [
       "textID           0\n",
       "text             1\n",
       "selected_text    1\n",
       "sentiment        0\n",
       "dtype: int64"
      ]
     },
     "execution_count": 9,
     "metadata": {},
     "output_type": "execute_result"
    }
   ],
   "source": [
    "train.isnull().sum()"
   ]
  },
  {
   "cell_type": "code",
   "execution_count": 10,
   "id": "fdd3d676",
   "metadata": {
    "execution": {
     "iopub.execute_input": "2022-11-05T17:10:35.510974Z",
     "iopub.status.busy": "2022-11-05T17:10:35.510576Z",
     "iopub.status.idle": "2022-11-05T17:10:35.524677Z",
     "shell.execute_reply": "2022-11-05T17:10:35.523402Z"
    },
    "papermill": {
     "duration": 0.023868,
     "end_time": "2022-11-05T17:10:35.526753",
     "exception": false,
     "start_time": "2022-11-05T17:10:35.502885",
     "status": "completed"
    },
    "tags": []
   },
   "outputs": [],
   "source": [
    "train.dropna(inplace=True)"
   ]
  },
  {
   "cell_type": "code",
   "execution_count": 11,
   "id": "030bff1d",
   "metadata": {
    "execution": {
     "iopub.execute_input": "2022-11-05T17:10:35.540972Z",
     "iopub.status.busy": "2022-11-05T17:10:35.540632Z",
     "iopub.status.idle": "2022-11-05T17:10:35.546877Z",
     "shell.execute_reply": "2022-11-05T17:10:35.545172Z"
    },
    "papermill": {
     "duration": 0.016139,
     "end_time": "2022-11-05T17:10:35.549271",
     "exception": false,
     "start_time": "2022-11-05T17:10:35.533132",
     "status": "completed"
    },
    "tags": []
   },
   "outputs": [
    {
     "data": {
      "text/plain": [
       "(27480, 4)"
      ]
     },
     "execution_count": 11,
     "metadata": {},
     "output_type": "execute_result"
    }
   ],
   "source": [
    "train.shape"
   ]
  },
  {
   "cell_type": "code",
   "execution_count": 12,
   "id": "e7b17da5",
   "metadata": {
    "execution": {
     "iopub.execute_input": "2022-11-05T17:10:35.563295Z",
     "iopub.status.busy": "2022-11-05T17:10:35.562907Z",
     "iopub.status.idle": "2022-11-05T17:10:35.570703Z",
     "shell.execute_reply": "2022-11-05T17:10:35.569490Z"
    },
    "papermill": {
     "duration": 0.017556,
     "end_time": "2022-11-05T17:10:35.573139",
     "exception": false,
     "start_time": "2022-11-05T17:10:35.555583",
     "status": "completed"
    },
    "tags": []
   },
   "outputs": [],
   "source": [
    "def remove_hyperlinks(text):\n",
    "    hyperlinkfree=re.sub('https?://\\S+|www\\.\\S+', '', text)\n",
    "    return hyperlinkfree\n",
    "\n",
    "def remove(text):\n",
    "    text=re.sub('\\S*\\d\\S*',' ',text) #Removing Numbers\n",
    "    text=re.sub('<.*?>+',' ',text)   #Removing Angular Brackets\n",
    "    text=re.sub('\\[.*?\\]',' ',text)  #Removing Square Brackets\n",
    "    text=re.sub('\\n',' ',text)       #Removing '\\n' character \n",
    "    text=re.sub('\\*+','',text) #Replacing **** by ABUSE word\n",
    "    return text\n",
    "\n",
    "def remove_punctuation(text):\n",
    "    punctuationfree=\"\".join([i for i in text if i not in string.punctuation])\n",
    "    return punctuationfree\n"
   ]
  },
  {
   "cell_type": "code",
   "execution_count": 13,
   "id": "d207b55c",
   "metadata": {
    "execution": {
     "iopub.execute_input": "2022-11-05T17:10:35.587343Z",
     "iopub.status.busy": "2022-11-05T17:10:35.586963Z",
     "iopub.status.idle": "2022-11-05T17:10:36.671060Z",
     "shell.execute_reply": "2022-11-05T17:10:36.669822Z"
    },
    "papermill": {
     "duration": 1.094005,
     "end_time": "2022-11-05T17:10:36.673564",
     "exception": false,
     "start_time": "2022-11-05T17:10:35.579559",
     "status": "completed"
    },
    "tags": []
   },
   "outputs": [],
   "source": [
    "train['text'] = train['text'].apply(lambda x: x.lower())\n",
    "test['text'] = test['text'].apply(lambda x: x.lower())\n",
    "train['selected_text'] = train['selected_text'].apply(lambda x: x.lower())\n",
    "\n",
    "train['text'] = train['text'].apply(lambda x: remove_hyperlinks(x))\n",
    "test['text'] = test['text'].apply(lambda x: remove_hyperlinks(x))\n",
    "train['selected_text'] = train['selected_text'].apply(lambda x: remove_hyperlinks(x))\n",
    "\n",
    "train['text'] = train['text'].apply(lambda x: remove(x))\n",
    "test['text'] = test['text'].apply(lambda x: remove(x))\n",
    "train['selected_text'] = train['selected_text'].apply(lambda x: remove(x))\n",
    "\n",
    "train['text'] = train['text'].apply(lambda x: remove_punctuation(x))\n",
    "test['text'] = test['text'].apply(lambda x: remove_punctuation(x))\n",
    "train['selected_text'] = train['selected_text'].apply(lambda x: remove_punctuation(x))"
   ]
  },
  {
   "cell_type": "code",
   "execution_count": 14,
   "id": "305b7e0e",
   "metadata": {
    "execution": {
     "iopub.execute_input": "2022-11-05T17:10:36.687448Z",
     "iopub.status.busy": "2022-11-05T17:10:36.687123Z",
     "iopub.status.idle": "2022-11-05T17:10:36.699026Z",
     "shell.execute_reply": "2022-11-05T17:10:36.697629Z"
    },
    "papermill": {
     "duration": 0.021181,
     "end_time": "2022-11-05T17:10:36.701010",
     "exception": false,
     "start_time": "2022-11-05T17:10:36.679829",
     "status": "completed"
    },
    "tags": []
   },
   "outputs": [
    {
     "data": {
      "text/html": [
       "<div>\n",
       "<style scoped>\n",
       "    .dataframe tbody tr th:only-of-type {\n",
       "        vertical-align: middle;\n",
       "    }\n",
       "\n",
       "    .dataframe tbody tr th {\n",
       "        vertical-align: top;\n",
       "    }\n",
       "\n",
       "    .dataframe thead th {\n",
       "        text-align: right;\n",
       "    }\n",
       "</style>\n",
       "<table border=\"1\" class=\"dataframe\">\n",
       "  <thead>\n",
       "    <tr style=\"text-align: right;\">\n",
       "      <th></th>\n",
       "      <th>textID</th>\n",
       "      <th>text</th>\n",
       "      <th>selected_text</th>\n",
       "      <th>sentiment</th>\n",
       "    </tr>\n",
       "  </thead>\n",
       "  <tbody>\n",
       "    <tr>\n",
       "      <th>0</th>\n",
       "      <td>cb774db0d1</td>\n",
       "      <td>id have responded if i were going</td>\n",
       "      <td>id have responded if i were going</td>\n",
       "      <td>neutral</td>\n",
       "    </tr>\n",
       "    <tr>\n",
       "      <th>1</th>\n",
       "      <td>549e992a42</td>\n",
       "      <td>sooo sad i will miss you here in san diego</td>\n",
       "      <td>sooo sad</td>\n",
       "      <td>negative</td>\n",
       "    </tr>\n",
       "    <tr>\n",
       "      <th>2</th>\n",
       "      <td>088c60f138</td>\n",
       "      <td>my boss is bullying me</td>\n",
       "      <td>bullying me</td>\n",
       "      <td>negative</td>\n",
       "    </tr>\n",
       "    <tr>\n",
       "      <th>3</th>\n",
       "      <td>9642c003ef</td>\n",
       "      <td>what interview leave me alone</td>\n",
       "      <td>leave me alone</td>\n",
       "      <td>negative</td>\n",
       "    </tr>\n",
       "    <tr>\n",
       "      <th>4</th>\n",
       "      <td>358bd9e861</td>\n",
       "      <td>sons of  why couldnt they put them on the rel...</td>\n",
       "      <td>sons of</td>\n",
       "      <td>negative</td>\n",
       "    </tr>\n",
       "  </tbody>\n",
       "</table>\n",
       "</div>"
      ],
      "text/plain": [
       "       textID                                               text  \\\n",
       "0  cb774db0d1                  id have responded if i were going   \n",
       "1  549e992a42         sooo sad i will miss you here in san diego   \n",
       "2  088c60f138                             my boss is bullying me   \n",
       "3  9642c003ef                      what interview leave me alone   \n",
       "4  358bd9e861   sons of  why couldnt they put them on the rel...   \n",
       "\n",
       "                       selected_text sentiment  \n",
       "0  id have responded if i were going   neutral  \n",
       "1                           sooo sad  negative  \n",
       "2                        bullying me  negative  \n",
       "3                     leave me alone  negative  \n",
       "4                           sons of   negative  "
      ]
     },
     "execution_count": 14,
     "metadata": {},
     "output_type": "execute_result"
    }
   ],
   "source": [
    "train.head()"
   ]
  },
  {
   "cell_type": "code",
   "execution_count": 15,
   "id": "199f511c",
   "metadata": {
    "execution": {
     "iopub.execute_input": "2022-11-05T17:10:36.716144Z",
     "iopub.status.busy": "2022-11-05T17:10:36.715229Z",
     "iopub.status.idle": "2022-11-05T17:10:36.730885Z",
     "shell.execute_reply": "2022-11-05T17:10:36.729161Z"
    },
    "papermill": {
     "duration": 0.02592,
     "end_time": "2022-11-05T17:10:36.733472",
     "exception": false,
     "start_time": "2022-11-05T17:10:36.707552",
     "status": "completed"
    },
    "tags": []
   },
   "outputs": [
    {
     "data": {
      "text/html": [
       "<div>\n",
       "<style scoped>\n",
       "    .dataframe tbody tr th:only-of-type {\n",
       "        vertical-align: middle;\n",
       "    }\n",
       "\n",
       "    .dataframe tbody tr th {\n",
       "        vertical-align: top;\n",
       "    }\n",
       "\n",
       "    .dataframe thead th {\n",
       "        text-align: right;\n",
       "    }\n",
       "</style>\n",
       "<table border=\"1\" class=\"dataframe\">\n",
       "  <thead>\n",
       "    <tr style=\"text-align: right;\">\n",
       "      <th></th>\n",
       "      <th>textID</th>\n",
       "      <th>text</th>\n",
       "      <th>selected_text</th>\n",
       "      <th>sentiment</th>\n",
       "    </tr>\n",
       "  </thead>\n",
       "  <tbody>\n",
       "    <tr>\n",
       "      <th>1319</th>\n",
       "      <td>bc84f21e3b</td>\n",
       "      <td></td>\n",
       "      <td>shoesshoesshoesyayyayyayloli</td>\n",
       "      <td>positive</td>\n",
       "    </tr>\n",
       "    <tr>\n",
       "      <th>6399</th>\n",
       "      <td>d02b3284fd</td>\n",
       "      <td></td>\n",
       "      <td></td>\n",
       "      <td>neutral</td>\n",
       "    </tr>\n",
       "    <tr>\n",
       "      <th>8120</th>\n",
       "      <td>4a265d8a34</td>\n",
       "      <td></td>\n",
       "      <td></td>\n",
       "      <td>negative</td>\n",
       "    </tr>\n",
       "    <tr>\n",
       "      <th>24926</th>\n",
       "      <td>0872ed0f00</td>\n",
       "      <td></td>\n",
       "      <td></td>\n",
       "      <td>neutral</td>\n",
       "    </tr>\n",
       "  </tbody>\n",
       "</table>\n",
       "</div>"
      ],
      "text/plain": [
       "           textID text                 selected_text sentiment\n",
       "1319   bc84f21e3b       shoesshoesshoesyayyayyayloli  positive\n",
       "6399   d02b3284fd                                      neutral\n",
       "8120   4a265d8a34                                     negative\n",
       "24926  0872ed0f00                                      neutral"
      ]
     },
     "execution_count": 15,
     "metadata": {},
     "output_type": "execute_result"
    }
   ],
   "source": [
    "train[train['text']==' ']"
   ]
  },
  {
   "cell_type": "code",
   "execution_count": 16,
   "id": "d5cde2a8",
   "metadata": {
    "execution": {
     "iopub.execute_input": "2022-11-05T17:10:36.748418Z",
     "iopub.status.busy": "2022-11-05T17:10:36.748063Z",
     "iopub.status.idle": "2022-11-05T17:10:36.760320Z",
     "shell.execute_reply": "2022-11-05T17:10:36.758630Z"
    },
    "papermill": {
     "duration": 0.022371,
     "end_time": "2022-11-05T17:10:36.762615",
     "exception": false,
     "start_time": "2022-11-05T17:10:36.740244",
     "status": "completed"
    },
    "tags": []
   },
   "outputs": [],
   "source": [
    "train.drop(train[train['text']==' '].index, inplace=True)"
   ]
  },
  {
   "cell_type": "code",
   "execution_count": 17,
   "id": "4cb010e5",
   "metadata": {
    "execution": {
     "iopub.execute_input": "2022-11-05T17:10:36.777537Z",
     "iopub.status.busy": "2022-11-05T17:10:36.777199Z",
     "iopub.status.idle": "2022-11-05T17:10:36.783630Z",
     "shell.execute_reply": "2022-11-05T17:10:36.782054Z"
    },
    "papermill": {
     "duration": 0.0167,
     "end_time": "2022-11-05T17:10:36.786148",
     "exception": false,
     "start_time": "2022-11-05T17:10:36.769448",
     "status": "completed"
    },
    "tags": []
   },
   "outputs": [],
   "source": [
    "def wrong_words(text, selected):\n",
    "    words = []\n",
    "    text = text.split()\n",
    "    selected = selected.split()\n",
    "    for i in selected:\n",
    "        if i not in text:\n",
    "            words.append(i)\n",
    "    if len(words)>0:\n",
    "        return \" \".join(words)\n",
    "    else:\n",
    "        return '++++'"
   ]
  },
  {
   "cell_type": "code",
   "execution_count": 18,
   "id": "4476a07e",
   "metadata": {
    "execution": {
     "iopub.execute_input": "2022-11-05T17:10:36.801648Z",
     "iopub.status.busy": "2022-11-05T17:10:36.800502Z",
     "iopub.status.idle": "2022-11-05T17:10:37.430783Z",
     "shell.execute_reply": "2022-11-05T17:10:37.429426Z"
    },
    "papermill": {
     "duration": 0.640474,
     "end_time": "2022-11-05T17:10:37.433281",
     "exception": false,
     "start_time": "2022-11-05T17:10:36.792807",
     "status": "completed"
    },
    "tags": []
   },
   "outputs": [],
   "source": [
    "train['spelling'] = train.apply(lambda x: wrong_words(x.text, x.selected_text), axis = 1)"
   ]
  },
  {
   "cell_type": "code",
   "execution_count": 19,
   "id": "da8957aa",
   "metadata": {
    "execution": {
     "iopub.execute_input": "2022-11-05T17:10:37.448352Z",
     "iopub.status.busy": "2022-11-05T17:10:37.447951Z",
     "iopub.status.idle": "2022-11-05T17:10:37.474142Z",
     "shell.execute_reply": "2022-11-05T17:10:37.472650Z"
    },
    "papermill": {
     "duration": 0.036391,
     "end_time": "2022-11-05T17:10:37.476603",
     "exception": false,
     "start_time": "2022-11-05T17:10:37.440212",
     "status": "completed"
    },
    "tags": []
   },
   "outputs": [
    {
     "data": {
      "text/html": [
       "<div>\n",
       "<style scoped>\n",
       "    .dataframe tbody tr th:only-of-type {\n",
       "        vertical-align: middle;\n",
       "    }\n",
       "\n",
       "    .dataframe tbody tr th {\n",
       "        vertical-align: top;\n",
       "    }\n",
       "\n",
       "    .dataframe thead th {\n",
       "        text-align: right;\n",
       "    }\n",
       "</style>\n",
       "<table border=\"1\" class=\"dataframe\">\n",
       "  <thead>\n",
       "    <tr style=\"text-align: right;\">\n",
       "      <th></th>\n",
       "      <th>textID</th>\n",
       "      <th>text</th>\n",
       "      <th>selected_text</th>\n",
       "      <th>sentiment</th>\n",
       "      <th>spelling</th>\n",
       "    </tr>\n",
       "  </thead>\n",
       "  <tbody>\n",
       "    <tr>\n",
       "      <th>49</th>\n",
       "      <td>3fcea4debc</td>\n",
       "      <td>which case i got a new one last week and im n...</td>\n",
       "      <td>d im not thrilled at all with mine</td>\n",
       "      <td>negative</td>\n",
       "      <td>d</td>\n",
       "    </tr>\n",
       "    <tr>\n",
       "      <th>66</th>\n",
       "      <td>95e12b1cb1</td>\n",
       "      <td>hes awesome have you worked with him before ...</td>\n",
       "      <td>s awesome</td>\n",
       "      <td>positive</td>\n",
       "      <td>s</td>\n",
       "    </tr>\n",
       "    <tr>\n",
       "      <th>129</th>\n",
       "      <td>94f67cfa6d</td>\n",
       "      <td>hey mia  totally adore your music  when will ...</td>\n",
       "      <td>y adore</td>\n",
       "      <td>positive</td>\n",
       "      <td>y</td>\n",
       "    </tr>\n",
       "    <tr>\n",
       "      <th>134</th>\n",
       "      <td>6903cb08f2</td>\n",
       "      <td>nice to see you tweeting  its sunday   may an...</td>\n",
       "      <td>e nice</td>\n",
       "      <td>positive</td>\n",
       "      <td>e</td>\n",
       "    </tr>\n",
       "    <tr>\n",
       "      <th>166</th>\n",
       "      <td>c78bf59e67</td>\n",
       "      <td>lichfield tweetup sounds like fun  hope to s...</td>\n",
       "      <td>p sounds like fun</td>\n",
       "      <td>positive</td>\n",
       "      <td>p</td>\n",
       "    </tr>\n",
       "    <tr>\n",
       "      <th>...</th>\n",
       "      <td>...</td>\n",
       "      <td>...</td>\n",
       "      <td>...</td>\n",
       "      <td>...</td>\n",
       "      <td>...</td>\n",
       "    </tr>\n",
       "    <tr>\n",
       "      <th>27153</th>\n",
       "      <td>a044ed928d</td>\n",
       "      <td>enjoy nola definitely one of my favorite citi...</td>\n",
       "      <td>y one of my favorite cities in the world</td>\n",
       "      <td>positive</td>\n",
       "      <td>y</td>\n",
       "    </tr>\n",
       "    <tr>\n",
       "      <th>27240</th>\n",
       "      <td>40143b692e</td>\n",
       "      <td>who knows  it makes me sad  lol</td>\n",
       "      <td>e sad</td>\n",
       "      <td>negative</td>\n",
       "      <td>e</td>\n",
       "    </tr>\n",
       "    <tr>\n",
       "      <th>27426</th>\n",
       "      <td>132e051fe8</td>\n",
       "      <td>my cousins moved there like   years ago and ...</td>\n",
       "      <td>m sad</td>\n",
       "      <td>negative</td>\n",
       "      <td>m</td>\n",
       "    </tr>\n",
       "    <tr>\n",
       "      <th>27470</th>\n",
       "      <td>778184dff1</td>\n",
       "      <td>lol i know  and hahadid you fall asleep or ju...</td>\n",
       "      <td>t bored</td>\n",
       "      <td>negative</td>\n",
       "      <td>t</td>\n",
       "    </tr>\n",
       "    <tr>\n",
       "      <th>27476</th>\n",
       "      <td>4eac33d1c0</td>\n",
       "      <td>wish we could come see u on denver  husband l...</td>\n",
       "      <td>d lost</td>\n",
       "      <td>negative</td>\n",
       "      <td>d</td>\n",
       "    </tr>\n",
       "  </tbody>\n",
       "</table>\n",
       "<p>682 rows × 5 columns</p>\n",
       "</div>"
      ],
      "text/plain": [
       "           textID                                               text  \\\n",
       "49     3fcea4debc   which case i got a new one last week and im n...   \n",
       "66     95e12b1cb1    hes awesome have you worked with him before ...   \n",
       "129    94f67cfa6d   hey mia  totally adore your music  when will ...   \n",
       "134    6903cb08f2   nice to see you tweeting  its sunday   may an...   \n",
       "166    c78bf59e67    lichfield tweetup sounds like fun  hope to s...   \n",
       "...           ...                                                ...   \n",
       "27153  a044ed928d   enjoy nola definitely one of my favorite citi...   \n",
       "27240  40143b692e                    who knows  it makes me sad  lol   \n",
       "27426  132e051fe8    my cousins moved there like   years ago and ...   \n",
       "27470  778184dff1   lol i know  and hahadid you fall asleep or ju...   \n",
       "27476  4eac33d1c0   wish we could come see u on denver  husband l...   \n",
       "\n",
       "                                  selected_text sentiment spelling  \n",
       "49           d im not thrilled at all with mine  negative        d  \n",
       "66                                    s awesome  positive        s  \n",
       "129                                     y adore  positive        y  \n",
       "134                                      e nice  positive        e  \n",
       "166                           p sounds like fun  positive        p  \n",
       "...                                         ...       ...      ...  \n",
       "27153  y one of my favorite cities in the world  positive        y  \n",
       "27240                                     e sad  negative        e  \n",
       "27426                                     m sad  negative        m  \n",
       "27470                                   t bored  negative        t  \n",
       "27476                                    d lost  negative        d  \n",
       "\n",
       "[682 rows x 5 columns]"
      ]
     },
     "execution_count": 19,
     "metadata": {},
     "output_type": "execute_result"
    }
   ],
   "source": [
    "train[train['spelling'].apply(lambda x: len(x)==1)]"
   ]
  },
  {
   "cell_type": "code",
   "execution_count": 20,
   "id": "7bd88717",
   "metadata": {
    "execution": {
     "iopub.execute_input": "2022-11-05T17:10:37.492497Z",
     "iopub.status.busy": "2022-11-05T17:10:37.492102Z",
     "iopub.status.idle": "2022-11-05T17:10:37.498049Z",
     "shell.execute_reply": "2022-11-05T17:10:37.496590Z"
    },
    "papermill": {
     "duration": 0.016685,
     "end_time": "2022-11-05T17:10:37.500426",
     "exception": false,
     "start_time": "2022-11-05T17:10:37.483741",
     "status": "completed"
    },
    "tags": []
   },
   "outputs": [],
   "source": [
    "def remove_text(x):\n",
    "    selected=x[0]\n",
    "    spelling=x[1]\n",
    "    selected=selected.split()\n",
    "    selected.remove(spelling) #https://www.geeksforgeeks.org/python-list-remove/\n",
    "    return \" \".join(selected)"
   ]
  },
  {
   "cell_type": "code",
   "execution_count": 21,
   "id": "18eee36e",
   "metadata": {
    "execution": {
     "iopub.execute_input": "2022-11-05T17:10:37.515797Z",
     "iopub.status.busy": "2022-11-05T17:10:37.515468Z",
     "iopub.status.idle": "2022-11-05T17:10:37.886358Z",
     "shell.execute_reply": "2022-11-05T17:10:37.885248Z"
    },
    "papermill": {
     "duration": 0.381131,
     "end_time": "2022-11-05T17:10:37.888798",
     "exception": false,
     "start_time": "2022-11-05T17:10:37.507667",
     "status": "completed"
    },
    "tags": []
   },
   "outputs": [],
   "source": [
    "train['selected_text']=train[['selected_text','spelling']].apply(lambda x: remove_text(x) if len(x['spelling'])==1  else x['selected_text'],axis=1)"
   ]
  },
  {
   "cell_type": "code",
   "execution_count": 22,
   "id": "28e01a36",
   "metadata": {
    "execution": {
     "iopub.execute_input": "2022-11-05T17:10:37.904792Z",
     "iopub.status.busy": "2022-11-05T17:10:37.904416Z",
     "iopub.status.idle": "2022-11-05T17:10:38.530800Z",
     "shell.execute_reply": "2022-11-05T17:10:38.529542Z"
    },
    "papermill": {
     "duration": 0.636978,
     "end_time": "2022-11-05T17:10:38.533150",
     "exception": false,
     "start_time": "2022-11-05T17:10:37.896172",
     "status": "completed"
    },
    "tags": []
   },
   "outputs": [],
   "source": [
    "train['spelling']=train.apply(lambda x: wrong_words(x.text,x.selected_text),axis=1)"
   ]
  },
  {
   "cell_type": "code",
   "execution_count": 23,
   "id": "e9a1b0a3",
   "metadata": {
    "execution": {
     "iopub.execute_input": "2022-11-05T17:10:38.548410Z",
     "iopub.status.busy": "2022-11-05T17:10:38.548044Z",
     "iopub.status.idle": "2022-11-05T17:10:38.569208Z",
     "shell.execute_reply": "2022-11-05T17:10:38.567964Z"
    },
    "papermill": {
     "duration": 0.03165,
     "end_time": "2022-11-05T17:10:38.571799",
     "exception": false,
     "start_time": "2022-11-05T17:10:38.540149",
     "status": "completed"
    },
    "tags": []
   },
   "outputs": [
    {
     "data": {
      "text/html": [
       "<div>\n",
       "<style scoped>\n",
       "    .dataframe tbody tr th:only-of-type {\n",
       "        vertical-align: middle;\n",
       "    }\n",
       "\n",
       "    .dataframe tbody tr th {\n",
       "        vertical-align: top;\n",
       "    }\n",
       "\n",
       "    .dataframe thead th {\n",
       "        text-align: right;\n",
       "    }\n",
       "</style>\n",
       "<table border=\"1\" class=\"dataframe\">\n",
       "  <thead>\n",
       "    <tr style=\"text-align: right;\">\n",
       "      <th></th>\n",
       "      <th>textID</th>\n",
       "      <th>text</th>\n",
       "      <th>selected_text</th>\n",
       "      <th>sentiment</th>\n",
       "      <th>spelling</th>\n",
       "    </tr>\n",
       "  </thead>\n",
       "  <tbody>\n",
       "  </tbody>\n",
       "</table>\n",
       "</div>"
      ],
      "text/plain": [
       "Empty DataFrame\n",
       "Columns: [textID, text, selected_text, sentiment, spelling]\n",
       "Index: []"
      ]
     },
     "execution_count": 23,
     "metadata": {},
     "output_type": "execute_result"
    }
   ],
   "source": [
    "train[train['spelling'].apply(lambda x: len(x))==1]"
   ]
  }
 ],
 "metadata": {
  "kernelspec": {
   "display_name": "Python 3",
   "language": "python",
   "name": "python3"
  },
  "language_info": {
   "codemirror_mode": {
    "name": "ipython",
    "version": 3
   },
   "file_extension": ".py",
   "mimetype": "text/x-python",
   "name": "python",
   "nbconvert_exporter": "python",
   "pygments_lexer": "ipython3",
   "version": "3.7.12"
  },
  "papermill": {
   "default_parameters": {},
   "duration": 33.039253,
   "end_time": "2022-11-05T17:10:42.077236",
   "environment_variables": {},
   "exception": null,
   "input_path": "__notebook__.ipynb",
   "output_path": "__notebook__.ipynb",
   "parameters": {},
   "start_time": "2022-11-05T17:10:09.037983",
   "version": "2.3.4"
  }
 },
 "nbformat": 4,
 "nbformat_minor": 5
}
