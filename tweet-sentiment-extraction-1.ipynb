{
 "cells": [
  {
   "cell_type": "code",
   "execution_count": 1,
   "id": "0af1de94",
   "metadata": {
    "_cell_guid": "b1076dfc-b9ad-4769-8c92-a6c4dae69d19",
    "_uuid": "8f2839f25d086af736a60e9eeb907d3b93b6e0e5",
    "execution": {
     "iopub.execute_input": "2022-11-06T15:40:46.287201Z",
     "iopub.status.busy": "2022-11-06T15:40:46.286505Z",
     "iopub.status.idle": "2022-11-06T15:40:54.572227Z",
     "shell.execute_reply": "2022-11-06T15:40:54.570825Z"
    },
    "papermill": {
     "duration": 8.300229,
     "end_time": "2022-11-06T15:40:54.575672",
     "exception": false,
     "start_time": "2022-11-06T15:40:46.275443",
     "status": "completed"
    },
    "tags": []
   },
   "outputs": [
    {
     "name": "stdout",
     "output_type": "stream",
     "text": [
      "/kaggle/input/tweet-sentiment-extraction/sample_submission.csv\n",
      "/kaggle/input/tweet-sentiment-extraction/train.csv\n",
      "/kaggle/input/tweet-sentiment-extraction/test.csv\n"
     ]
    }
   ],
   "source": [
    "# This Python 3 environment comes with many helpful analytics libraries installed\n",
    "# It is defined by the kaggle/python Docker image: https://github.com/kaggle/docker-python\n",
    "# For example, here's several helpful packages to load\n",
    "\n",
    "import numpy as np # linear algebra\n",
    "import pandas as pd # data processing, CSV file I/O (e.g. pd.read_csv)\n",
    "import pickle\n",
    "from matplotlib import pyplot as plt\n",
    "import seaborn as sns\n",
    "import plotly.express as px\n",
    "import warnings\n",
    "warnings.filterwarnings(\"ignore\")\n",
    "import string\n",
    "import re\n",
    "import nltk\n",
    "import collections\n",
    "import tensorflow as tf\n",
    "import fuzzywuzzy as fuzz\n",
    "\n",
    "# Input data files are available in the read-only \"../input/\" directory\n",
    "# For example, running this (by clicking run or pressing Shift+Enter) will list all files under the input directory\n",
    "\n",
    "import os\n",
    "for dirname, _, filenames in os.walk('/kaggle/input'):\n",
    "    for filename in filenames:\n",
    "        print(os.path.join(dirname, filename))\n",
    "\n",
    "# You can write up to 20GB to the current directory (/kaggle/working/) that gets preserved as output when you create a version using \"Save & Run All\" \n",
    "# You can also write temporary files to /kaggle/temp/, but they won't be saved outside of the current session"
   ]
  },
  {
   "cell_type": "markdown",
   "id": "1da57631",
   "metadata": {
    "papermill": {
     "duration": 0.00622,
     "end_time": "2022-11-06T15:40:54.588949",
     "exception": false,
     "start_time": "2022-11-06T15:40:54.582729",
     "status": "completed"
    },
    "tags": []
   },
   "source": [
    "#Import Libraries"
   ]
  },
  {
   "cell_type": "code",
   "execution_count": 2,
   "id": "b6389112",
   "metadata": {
    "execution": {
     "iopub.execute_input": "2022-11-06T15:40:54.605251Z",
     "iopub.status.busy": "2022-11-06T15:40:54.604447Z",
     "iopub.status.idle": "2022-11-06T15:40:54.609884Z",
     "shell.execute_reply": "2022-11-06T15:40:54.608603Z"
    },
    "papermill": {
     "duration": 0.016229,
     "end_time": "2022-11-06T15:40:54.612414",
     "exception": false,
     "start_time": "2022-11-06T15:40:54.596185",
     "status": "completed"
    },
    "tags": []
   },
   "outputs": [],
   "source": [
    "#pip install fuzzywuzzy\n",
    "pd.set_option('display.max_colwidth', None)"
   ]
  },
  {
   "cell_type": "code",
   "execution_count": 3,
   "id": "3f7b88dd",
   "metadata": {
    "execution": {
     "iopub.execute_input": "2022-11-06T15:40:54.629572Z",
     "iopub.status.busy": "2022-11-06T15:40:54.628684Z",
     "iopub.status.idle": "2022-11-06T15:40:54.813721Z",
     "shell.execute_reply": "2022-11-06T15:40:54.812854Z"
    },
    "papermill": {
     "duration": 0.197558,
     "end_time": "2022-11-06T15:40:54.816700",
     "exception": false,
     "start_time": "2022-11-06T15:40:54.619142",
     "status": "completed"
    },
    "tags": []
   },
   "outputs": [],
   "source": [
    "train = pd.read_csv('/kaggle/input/tweet-sentiment-extraction/train.csv')\n",
    "test = pd.read_csv('/kaggle/input/tweet-sentiment-extraction/test.csv')\n",
    "ss = pd.read_csv('/kaggle/input/tweet-sentiment-extraction/sample_submission.csv')"
   ]
  },
  {
   "cell_type": "code",
   "execution_count": 4,
   "id": "e42ea43e",
   "metadata": {
    "execution": {
     "iopub.execute_input": "2022-11-06T15:40:54.832612Z",
     "iopub.status.busy": "2022-11-06T15:40:54.831782Z",
     "iopub.status.idle": "2022-11-06T15:40:54.853917Z",
     "shell.execute_reply": "2022-11-06T15:40:54.852723Z"
    },
    "papermill": {
     "duration": 0.03288,
     "end_time": "2022-11-06T15:40:54.856510",
     "exception": false,
     "start_time": "2022-11-06T15:40:54.823630",
     "status": "completed"
    },
    "tags": []
   },
   "outputs": [
    {
     "data": {
      "text/html": [
       "<div>\n",
       "<style scoped>\n",
       "    .dataframe tbody tr th:only-of-type {\n",
       "        vertical-align: middle;\n",
       "    }\n",
       "\n",
       "    .dataframe tbody tr th {\n",
       "        vertical-align: top;\n",
       "    }\n",
       "\n",
       "    .dataframe thead th {\n",
       "        text-align: right;\n",
       "    }\n",
       "</style>\n",
       "<table border=\"1\" class=\"dataframe\">\n",
       "  <thead>\n",
       "    <tr style=\"text-align: right;\">\n",
       "      <th></th>\n",
       "      <th>textID</th>\n",
       "      <th>text</th>\n",
       "      <th>selected_text</th>\n",
       "      <th>sentiment</th>\n",
       "    </tr>\n",
       "  </thead>\n",
       "  <tbody>\n",
       "    <tr>\n",
       "      <th>0</th>\n",
       "      <td>cb774db0d1</td>\n",
       "      <td>I`d have responded, if I were going</td>\n",
       "      <td>I`d have responded, if I were going</td>\n",
       "      <td>neutral</td>\n",
       "    </tr>\n",
       "    <tr>\n",
       "      <th>1</th>\n",
       "      <td>549e992a42</td>\n",
       "      <td>Sooo SAD I will miss you here in San Diego!!!</td>\n",
       "      <td>Sooo SAD</td>\n",
       "      <td>negative</td>\n",
       "    </tr>\n",
       "    <tr>\n",
       "      <th>2</th>\n",
       "      <td>088c60f138</td>\n",
       "      <td>my boss is bullying me...</td>\n",
       "      <td>bullying me</td>\n",
       "      <td>negative</td>\n",
       "    </tr>\n",
       "    <tr>\n",
       "      <th>3</th>\n",
       "      <td>9642c003ef</td>\n",
       "      <td>what interview! leave me alone</td>\n",
       "      <td>leave me alone</td>\n",
       "      <td>negative</td>\n",
       "    </tr>\n",
       "    <tr>\n",
       "      <th>4</th>\n",
       "      <td>358bd9e861</td>\n",
       "      <td>Sons of ****, why couldn`t they put them on the releases we already bought</td>\n",
       "      <td>Sons of ****,</td>\n",
       "      <td>negative</td>\n",
       "    </tr>\n",
       "  </tbody>\n",
       "</table>\n",
       "</div>"
      ],
      "text/plain": [
       "       textID  \\\n",
       "0  cb774db0d1   \n",
       "1  549e992a42   \n",
       "2  088c60f138   \n",
       "3  9642c003ef   \n",
       "4  358bd9e861   \n",
       "\n",
       "                                                                          text  \\\n",
       "0                                          I`d have responded, if I were going   \n",
       "1                                Sooo SAD I will miss you here in San Diego!!!   \n",
       "2                                                    my boss is bullying me...   \n",
       "3                                               what interview! leave me alone   \n",
       "4   Sons of ****, why couldn`t they put them on the releases we already bought   \n",
       "\n",
       "                         selected_text sentiment  \n",
       "0  I`d have responded, if I were going   neutral  \n",
       "1                             Sooo SAD  negative  \n",
       "2                          bullying me  negative  \n",
       "3                       leave me alone  negative  \n",
       "4                        Sons of ****,  negative  "
      ]
     },
     "execution_count": 4,
     "metadata": {},
     "output_type": "execute_result"
    }
   ],
   "source": [
    "train.head()"
   ]
  },
  {
   "cell_type": "code",
   "execution_count": 5,
   "id": "a539cf45",
   "metadata": {
    "execution": {
     "iopub.execute_input": "2022-11-06T15:40:54.872618Z",
     "iopub.status.busy": "2022-11-06T15:40:54.871432Z",
     "iopub.status.idle": "2022-11-06T15:40:54.883577Z",
     "shell.execute_reply": "2022-11-06T15:40:54.882445Z"
    },
    "papermill": {
     "duration": 0.023058,
     "end_time": "2022-11-06T15:40:54.886329",
     "exception": false,
     "start_time": "2022-11-06T15:40:54.863271",
     "status": "completed"
    },
    "tags": []
   },
   "outputs": [
    {
     "data": {
      "text/html": [
       "<div>\n",
       "<style scoped>\n",
       "    .dataframe tbody tr th:only-of-type {\n",
       "        vertical-align: middle;\n",
       "    }\n",
       "\n",
       "    .dataframe tbody tr th {\n",
       "        vertical-align: top;\n",
       "    }\n",
       "\n",
       "    .dataframe thead th {\n",
       "        text-align: right;\n",
       "    }\n",
       "</style>\n",
       "<table border=\"1\" class=\"dataframe\">\n",
       "  <thead>\n",
       "    <tr style=\"text-align: right;\">\n",
       "      <th></th>\n",
       "      <th>textID</th>\n",
       "      <th>text</th>\n",
       "      <th>sentiment</th>\n",
       "    </tr>\n",
       "  </thead>\n",
       "  <tbody>\n",
       "    <tr>\n",
       "      <th>0</th>\n",
       "      <td>f87dea47db</td>\n",
       "      <td>Last session of the day  http://twitpic.com/67ezh</td>\n",
       "      <td>neutral</td>\n",
       "    </tr>\n",
       "    <tr>\n",
       "      <th>1</th>\n",
       "      <td>96d74cb729</td>\n",
       "      <td>Shanghai is also really exciting (precisely -- skyscrapers galore). Good tweeps in China:  (SH)  (BJ).</td>\n",
       "      <td>positive</td>\n",
       "    </tr>\n",
       "    <tr>\n",
       "      <th>2</th>\n",
       "      <td>eee518ae67</td>\n",
       "      <td>Recession hit Veronique Branquinho, she has to quit her company, such a shame!</td>\n",
       "      <td>negative</td>\n",
       "    </tr>\n",
       "    <tr>\n",
       "      <th>3</th>\n",
       "      <td>01082688c6</td>\n",
       "      <td>happy bday!</td>\n",
       "      <td>positive</td>\n",
       "    </tr>\n",
       "    <tr>\n",
       "      <th>4</th>\n",
       "      <td>33987a8ee5</td>\n",
       "      <td>http://twitpic.com/4w75p - I like it!!</td>\n",
       "      <td>positive</td>\n",
       "    </tr>\n",
       "  </tbody>\n",
       "</table>\n",
       "</div>"
      ],
      "text/plain": [
       "       textID  \\\n",
       "0  f87dea47db   \n",
       "1  96d74cb729   \n",
       "2  eee518ae67   \n",
       "3  01082688c6   \n",
       "4  33987a8ee5   \n",
       "\n",
       "                                                                                                      text  \\\n",
       "0                                                        Last session of the day  http://twitpic.com/67ezh   \n",
       "1   Shanghai is also really exciting (precisely -- skyscrapers galore). Good tweeps in China:  (SH)  (BJ).   \n",
       "2                           Recession hit Veronique Branquinho, she has to quit her company, such a shame!   \n",
       "3                                                                                              happy bday!   \n",
       "4                                                                   http://twitpic.com/4w75p - I like it!!   \n",
       "\n",
       "  sentiment  \n",
       "0   neutral  \n",
       "1  positive  \n",
       "2  negative  \n",
       "3  positive  \n",
       "4  positive  "
      ]
     },
     "execution_count": 5,
     "metadata": {},
     "output_type": "execute_result"
    }
   ],
   "source": [
    "test.head()"
   ]
  },
  {
   "cell_type": "code",
   "execution_count": 6,
   "id": "09a60f5b",
   "metadata": {
    "execution": {
     "iopub.execute_input": "2022-11-06T15:40:54.902221Z",
     "iopub.status.busy": "2022-11-06T15:40:54.901795Z",
     "iopub.status.idle": "2022-11-06T15:40:54.907911Z",
     "shell.execute_reply": "2022-11-06T15:40:54.906725Z"
    },
    "papermill": {
     "duration": 0.01743,
     "end_time": "2022-11-06T15:40:54.910778",
     "exception": false,
     "start_time": "2022-11-06T15:40:54.893348",
     "status": "completed"
    },
    "tags": []
   },
   "outputs": [
    {
     "name": "stdout",
     "output_type": "stream",
     "text": [
      "train shape:  (27481, 4)\n",
      "test shape:  (3534, 3)\n"
     ]
    }
   ],
   "source": [
    "print(\"train shape: \", train.shape)\n",
    "print(\"test shape: \", test.shape)"
   ]
  },
  {
   "cell_type": "code",
   "execution_count": 7,
   "id": "2c135f89",
   "metadata": {
    "execution": {
     "iopub.execute_input": "2022-11-06T15:40:54.928871Z",
     "iopub.status.busy": "2022-11-06T15:40:54.928476Z",
     "iopub.status.idle": "2022-11-06T15:40:54.963130Z",
     "shell.execute_reply": "2022-11-06T15:40:54.961411Z"
    },
    "papermill": {
     "duration": 0.046431,
     "end_time": "2022-11-06T15:40:54.965957",
     "exception": false,
     "start_time": "2022-11-06T15:40:54.919526",
     "status": "completed"
    },
    "tags": []
   },
   "outputs": [
    {
     "name": "stdout",
     "output_type": "stream",
     "text": [
      "<class 'pandas.core.frame.DataFrame'>\n",
      "RangeIndex: 27481 entries, 0 to 27480\n",
      "Data columns (total 4 columns):\n",
      " #   Column         Non-Null Count  Dtype \n",
      "---  ------         --------------  ----- \n",
      " 0   textID         27481 non-null  object\n",
      " 1   text           27480 non-null  object\n",
      " 2   selected_text  27480 non-null  object\n",
      " 3   sentiment      27481 non-null  object\n",
      "dtypes: object(4)\n",
      "memory usage: 858.9+ KB\n"
     ]
    }
   ],
   "source": [
    "train.info()"
   ]
  },
  {
   "cell_type": "code",
   "execution_count": 8,
   "id": "14d889b3",
   "metadata": {
    "execution": {
     "iopub.execute_input": "2022-11-06T15:40:54.982725Z",
     "iopub.status.busy": "2022-11-06T15:40:54.982251Z",
     "iopub.status.idle": "2022-11-06T15:40:54.995126Z",
     "shell.execute_reply": "2022-11-06T15:40:54.993359Z"
    },
    "papermill": {
     "duration": 0.024599,
     "end_time": "2022-11-06T15:40:54.997906",
     "exception": false,
     "start_time": "2022-11-06T15:40:54.973307",
     "status": "completed"
    },
    "tags": []
   },
   "outputs": [
    {
     "name": "stdout",
     "output_type": "stream",
     "text": [
      "<class 'pandas.core.frame.DataFrame'>\n",
      "RangeIndex: 3534 entries, 0 to 3533\n",
      "Data columns (total 3 columns):\n",
      " #   Column     Non-Null Count  Dtype \n",
      "---  ------     --------------  ----- \n",
      " 0   textID     3534 non-null   object\n",
      " 1   text       3534 non-null   object\n",
      " 2   sentiment  3534 non-null   object\n",
      "dtypes: object(3)\n",
      "memory usage: 83.0+ KB\n"
     ]
    }
   ],
   "source": [
    "test.info()"
   ]
  },
  {
   "cell_type": "code",
   "execution_count": 9,
   "id": "a3989ab4",
   "metadata": {
    "execution": {
     "iopub.execute_input": "2022-11-06T15:40:55.014890Z",
     "iopub.status.busy": "2022-11-06T15:40:55.013900Z",
     "iopub.status.idle": "2022-11-06T15:40:55.028401Z",
     "shell.execute_reply": "2022-11-06T15:40:55.027022Z"
    },
    "papermill": {
     "duration": 0.026044,
     "end_time": "2022-11-06T15:40:55.031328",
     "exception": false,
     "start_time": "2022-11-06T15:40:55.005284",
     "status": "completed"
    },
    "tags": []
   },
   "outputs": [
    {
     "data": {
      "text/plain": [
       "textID           0\n",
       "text             1\n",
       "selected_text    1\n",
       "sentiment        0\n",
       "dtype: int64"
      ]
     },
     "execution_count": 9,
     "metadata": {},
     "output_type": "execute_result"
    }
   ],
   "source": [
    "train.isnull().sum()"
   ]
  },
  {
   "cell_type": "code",
   "execution_count": 10,
   "id": "0c6eef6d",
   "metadata": {
    "execution": {
     "iopub.execute_input": "2022-11-06T15:40:55.049831Z",
     "iopub.status.busy": "2022-11-06T15:40:55.049411Z",
     "iopub.status.idle": "2022-11-06T15:40:55.065064Z",
     "shell.execute_reply": "2022-11-06T15:40:55.063744Z"
    },
    "papermill": {
     "duration": 0.028923,
     "end_time": "2022-11-06T15:40:55.067857",
     "exception": false,
     "start_time": "2022-11-06T15:40:55.038934",
     "status": "completed"
    },
    "tags": []
   },
   "outputs": [],
   "source": [
    "train.dropna(inplace=True)"
   ]
  },
  {
   "cell_type": "code",
   "execution_count": 11,
   "id": "12cdcce3",
   "metadata": {
    "execution": {
     "iopub.execute_input": "2022-11-06T15:40:55.085263Z",
     "iopub.status.busy": "2022-11-06T15:40:55.084840Z",
     "iopub.status.idle": "2022-11-06T15:40:55.093161Z",
     "shell.execute_reply": "2022-11-06T15:40:55.091593Z"
    },
    "papermill": {
     "duration": 0.020602,
     "end_time": "2022-11-06T15:40:55.096018",
     "exception": false,
     "start_time": "2022-11-06T15:40:55.075416",
     "status": "completed"
    },
    "tags": []
   },
   "outputs": [
    {
     "data": {
      "text/plain": [
       "(27480, 4)"
      ]
     },
     "execution_count": 11,
     "metadata": {},
     "output_type": "execute_result"
    }
   ],
   "source": [
    "train.shape"
   ]
  },
  {
   "cell_type": "code",
   "execution_count": 12,
   "id": "5821749b",
   "metadata": {
    "execution": {
     "iopub.execute_input": "2022-11-06T15:40:55.113468Z",
     "iopub.status.busy": "2022-11-06T15:40:55.113038Z",
     "iopub.status.idle": "2022-11-06T15:40:55.121357Z",
     "shell.execute_reply": "2022-11-06T15:40:55.120114Z"
    },
    "papermill": {
     "duration": 0.020112,
     "end_time": "2022-11-06T15:40:55.123846",
     "exception": false,
     "start_time": "2022-11-06T15:40:55.103734",
     "status": "completed"
    },
    "tags": []
   },
   "outputs": [],
   "source": [
    "def remove_hyperlinks(text):\n",
    "    hyperlinkfree=re.sub('https?://\\S+|www\\.\\S+', '', text)\n",
    "    return hyperlinkfree\n",
    "\n",
    "def remove(text):\n",
    "    text=re.sub('\\S*\\d\\S*',' ',text) #Removing Numbers\n",
    "    text=re.sub('<.*?>+',' ',text)   #Removing Angular Brackets\n",
    "    text=re.sub('\\[.*?\\]',' ',text)  #Removing Square Brackets\n",
    "    text=re.sub('\\n',' ',text)       #Removing '\\n' character \n",
    "    text=re.sub('\\*+','',text) #Replacing **** by ABUSE word\n",
    "    return text\n",
    "\n",
    "def remove_punctuation(text):\n",
    "    punctuationfree=\"\".join([i for i in text if i not in string.punctuation])\n",
    "    return punctuationfree\n"
   ]
  },
  {
   "cell_type": "code",
   "execution_count": 13,
   "id": "9873a8ec",
   "metadata": {
    "execution": {
     "iopub.execute_input": "2022-11-06T15:40:55.141010Z",
     "iopub.status.busy": "2022-11-06T15:40:55.140569Z",
     "iopub.status.idle": "2022-11-06T15:40:56.448407Z",
     "shell.execute_reply": "2022-11-06T15:40:56.447216Z"
    },
    "papermill": {
     "duration": 1.319577,
     "end_time": "2022-11-06T15:40:56.451179",
     "exception": false,
     "start_time": "2022-11-06T15:40:55.131602",
     "status": "completed"
    },
    "tags": []
   },
   "outputs": [],
   "source": [
    "train['text'] = train['text'].apply(lambda x: x.lower())\n",
    "test['text'] = test['text'].apply(lambda x: x.lower())\n",
    "train['selected_text'] = train['selected_text'].apply(lambda x: x.lower())\n",
    "\n",
    "train['text'] = train['text'].apply(lambda x: remove_hyperlinks(x))\n",
    "test['text'] = test['text'].apply(lambda x: remove_hyperlinks(x))\n",
    "train['selected_text'] = train['selected_text'].apply(lambda x: remove_hyperlinks(x))\n",
    "\n",
    "train['text'] = train['text'].apply(lambda x: remove(x))\n",
    "test['text'] = test['text'].apply(lambda x: remove(x))\n",
    "train['selected_text'] = train['selected_text'].apply(lambda x: remove(x))\n",
    "\n",
    "train['text'] = train['text'].apply(lambda x: remove_punctuation(x))\n",
    "test['text'] = test['text'].apply(lambda x: remove_punctuation(x))\n",
    "train['selected_text'] = train['selected_text'].apply(lambda x: remove_punctuation(x))"
   ]
  },
  {
   "cell_type": "code",
   "execution_count": 14,
   "id": "e6a3f348",
   "metadata": {
    "execution": {
     "iopub.execute_input": "2022-11-06T15:40:56.468371Z",
     "iopub.status.busy": "2022-11-06T15:40:56.467943Z",
     "iopub.status.idle": "2022-11-06T15:40:56.480623Z",
     "shell.execute_reply": "2022-11-06T15:40:56.479458Z"
    },
    "papermill": {
     "duration": 0.024157,
     "end_time": "2022-11-06T15:40:56.482998",
     "exception": false,
     "start_time": "2022-11-06T15:40:56.458841",
     "status": "completed"
    },
    "tags": []
   },
   "outputs": [
    {
     "data": {
      "text/html": [
       "<div>\n",
       "<style scoped>\n",
       "    .dataframe tbody tr th:only-of-type {\n",
       "        vertical-align: middle;\n",
       "    }\n",
       "\n",
       "    .dataframe tbody tr th {\n",
       "        vertical-align: top;\n",
       "    }\n",
       "\n",
       "    .dataframe thead th {\n",
       "        text-align: right;\n",
       "    }\n",
       "</style>\n",
       "<table border=\"1\" class=\"dataframe\">\n",
       "  <thead>\n",
       "    <tr style=\"text-align: right;\">\n",
       "      <th></th>\n",
       "      <th>textID</th>\n",
       "      <th>text</th>\n",
       "      <th>selected_text</th>\n",
       "      <th>sentiment</th>\n",
       "    </tr>\n",
       "  </thead>\n",
       "  <tbody>\n",
       "    <tr>\n",
       "      <th>0</th>\n",
       "      <td>cb774db0d1</td>\n",
       "      <td>id have responded if i were going</td>\n",
       "      <td>id have responded if i were going</td>\n",
       "      <td>neutral</td>\n",
       "    </tr>\n",
       "    <tr>\n",
       "      <th>1</th>\n",
       "      <td>549e992a42</td>\n",
       "      <td>sooo sad i will miss you here in san diego</td>\n",
       "      <td>sooo sad</td>\n",
       "      <td>negative</td>\n",
       "    </tr>\n",
       "    <tr>\n",
       "      <th>2</th>\n",
       "      <td>088c60f138</td>\n",
       "      <td>my boss is bullying me</td>\n",
       "      <td>bullying me</td>\n",
       "      <td>negative</td>\n",
       "    </tr>\n",
       "    <tr>\n",
       "      <th>3</th>\n",
       "      <td>9642c003ef</td>\n",
       "      <td>what interview leave me alone</td>\n",
       "      <td>leave me alone</td>\n",
       "      <td>negative</td>\n",
       "    </tr>\n",
       "    <tr>\n",
       "      <th>4</th>\n",
       "      <td>358bd9e861</td>\n",
       "      <td>sons of  why couldnt they put them on the releases we already bought</td>\n",
       "      <td>sons of</td>\n",
       "      <td>negative</td>\n",
       "    </tr>\n",
       "  </tbody>\n",
       "</table>\n",
       "</div>"
      ],
      "text/plain": [
       "       textID  \\\n",
       "0  cb774db0d1   \n",
       "1  549e992a42   \n",
       "2  088c60f138   \n",
       "3  9642c003ef   \n",
       "4  358bd9e861   \n",
       "\n",
       "                                                                    text  \\\n",
       "0                                      id have responded if i were going   \n",
       "1                             sooo sad i will miss you here in san diego   \n",
       "2                                                 my boss is bullying me   \n",
       "3                                          what interview leave me alone   \n",
       "4   sons of  why couldnt they put them on the releases we already bought   \n",
       "\n",
       "                       selected_text sentiment  \n",
       "0  id have responded if i were going   neutral  \n",
       "1                           sooo sad  negative  \n",
       "2                        bullying me  negative  \n",
       "3                     leave me alone  negative  \n",
       "4                           sons of   negative  "
      ]
     },
     "execution_count": 14,
     "metadata": {},
     "output_type": "execute_result"
    }
   ],
   "source": [
    "train.head()"
   ]
  },
  {
   "cell_type": "code",
   "execution_count": 15,
   "id": "39210ca1",
   "metadata": {
    "execution": {
     "iopub.execute_input": "2022-11-06T15:40:56.500868Z",
     "iopub.status.busy": "2022-11-06T15:40:56.500433Z",
     "iopub.status.idle": "2022-11-06T15:40:56.516524Z",
     "shell.execute_reply": "2022-11-06T15:40:56.515271Z"
    },
    "papermill": {
     "duration": 0.027918,
     "end_time": "2022-11-06T15:40:56.519099",
     "exception": false,
     "start_time": "2022-11-06T15:40:56.491181",
     "status": "completed"
    },
    "tags": []
   },
   "outputs": [
    {
     "data": {
      "text/html": [
       "<div>\n",
       "<style scoped>\n",
       "    .dataframe tbody tr th:only-of-type {\n",
       "        vertical-align: middle;\n",
       "    }\n",
       "\n",
       "    .dataframe tbody tr th {\n",
       "        vertical-align: top;\n",
       "    }\n",
       "\n",
       "    .dataframe thead th {\n",
       "        text-align: right;\n",
       "    }\n",
       "</style>\n",
       "<table border=\"1\" class=\"dataframe\">\n",
       "  <thead>\n",
       "    <tr style=\"text-align: right;\">\n",
       "      <th></th>\n",
       "      <th>textID</th>\n",
       "      <th>text</th>\n",
       "      <th>selected_text</th>\n",
       "      <th>sentiment</th>\n",
       "    </tr>\n",
       "  </thead>\n",
       "  <tbody>\n",
       "    <tr>\n",
       "      <th>1319</th>\n",
       "      <td>bc84f21e3b</td>\n",
       "      <td></td>\n",
       "      <td>shoesshoesshoesyayyayyayloli</td>\n",
       "      <td>positive</td>\n",
       "    </tr>\n",
       "    <tr>\n",
       "      <th>6399</th>\n",
       "      <td>d02b3284fd</td>\n",
       "      <td></td>\n",
       "      <td></td>\n",
       "      <td>neutral</td>\n",
       "    </tr>\n",
       "    <tr>\n",
       "      <th>8120</th>\n",
       "      <td>4a265d8a34</td>\n",
       "      <td></td>\n",
       "      <td></td>\n",
       "      <td>negative</td>\n",
       "    </tr>\n",
       "    <tr>\n",
       "      <th>24926</th>\n",
       "      <td>0872ed0f00</td>\n",
       "      <td></td>\n",
       "      <td></td>\n",
       "      <td>neutral</td>\n",
       "    </tr>\n",
       "  </tbody>\n",
       "</table>\n",
       "</div>"
      ],
      "text/plain": [
       "           textID text                 selected_text sentiment\n",
       "1319   bc84f21e3b       shoesshoesshoesyayyayyayloli  positive\n",
       "6399   d02b3284fd                                      neutral\n",
       "8120   4a265d8a34                                     negative\n",
       "24926  0872ed0f00                                      neutral"
      ]
     },
     "execution_count": 15,
     "metadata": {},
     "output_type": "execute_result"
    }
   ],
   "source": [
    "train[train['text']==' ']"
   ]
  },
  {
   "cell_type": "code",
   "execution_count": 16,
   "id": "e8acd5e9",
   "metadata": {
    "execution": {
     "iopub.execute_input": "2022-11-06T15:40:56.538310Z",
     "iopub.status.busy": "2022-11-06T15:40:56.537891Z",
     "iopub.status.idle": "2022-11-06T15:40:56.551199Z",
     "shell.execute_reply": "2022-11-06T15:40:56.550034Z"
    },
    "papermill": {
     "duration": 0.025863,
     "end_time": "2022-11-06T15:40:56.553881",
     "exception": false,
     "start_time": "2022-11-06T15:40:56.528018",
     "status": "completed"
    },
    "tags": []
   },
   "outputs": [],
   "source": [
    "train.drop(train[train['text']==' '].index, inplace=True)"
   ]
  },
  {
   "cell_type": "code",
   "execution_count": 17,
   "id": "04d5b4f9",
   "metadata": {
    "execution": {
     "iopub.execute_input": "2022-11-06T15:40:56.571781Z",
     "iopub.status.busy": "2022-11-06T15:40:56.571340Z",
     "iopub.status.idle": "2022-11-06T15:40:56.577951Z",
     "shell.execute_reply": "2022-11-06T15:40:56.576562Z"
    },
    "papermill": {
     "duration": 0.018328,
     "end_time": "2022-11-06T15:40:56.580217",
     "exception": false,
     "start_time": "2022-11-06T15:40:56.561889",
     "status": "completed"
    },
    "tags": []
   },
   "outputs": [],
   "source": [
    "def wrong_words(text, selected):\n",
    "    words = []\n",
    "    text = text.split()\n",
    "    selected = selected.split()\n",
    "    for i in selected:\n",
    "        if i not in text:\n",
    "            words.append(i)\n",
    "    if len(words)>0:\n",
    "        return \" \".join(words)\n",
    "    else:\n",
    "        return '++++'"
   ]
  },
  {
   "cell_type": "code",
   "execution_count": 18,
   "id": "146976e3",
   "metadata": {
    "execution": {
     "iopub.execute_input": "2022-11-06T15:40:56.598599Z",
     "iopub.status.busy": "2022-11-06T15:40:56.598138Z",
     "iopub.status.idle": "2022-11-06T15:40:57.306922Z",
     "shell.execute_reply": "2022-11-06T15:40:57.305628Z"
    },
    "papermill": {
     "duration": 0.721125,
     "end_time": "2022-11-06T15:40:57.309756",
     "exception": false,
     "start_time": "2022-11-06T15:40:56.588631",
     "status": "completed"
    },
    "tags": []
   },
   "outputs": [],
   "source": [
    "train['spelling'] = train.apply(lambda x: wrong_words(x.text, x.selected_text), axis = 1)"
   ]
  },
  {
   "cell_type": "code",
   "execution_count": 19,
   "id": "b3e4d18a",
   "metadata": {
    "execution": {
     "iopub.execute_input": "2022-11-06T15:40:57.327855Z",
     "iopub.status.busy": "2022-11-06T15:40:57.327420Z",
     "iopub.status.idle": "2022-11-06T15:40:57.357406Z",
     "shell.execute_reply": "2022-11-06T15:40:57.356204Z"
    },
    "papermill": {
     "duration": 0.042244,
     "end_time": "2022-11-06T15:40:57.360036",
     "exception": false,
     "start_time": "2022-11-06T15:40:57.317792",
     "status": "completed"
    },
    "tags": []
   },
   "outputs": [
    {
     "data": {
      "text/html": [
       "<div>\n",
       "<style scoped>\n",
       "    .dataframe tbody tr th:only-of-type {\n",
       "        vertical-align: middle;\n",
       "    }\n",
       "\n",
       "    .dataframe tbody tr th {\n",
       "        vertical-align: top;\n",
       "    }\n",
       "\n",
       "    .dataframe thead th {\n",
       "        text-align: right;\n",
       "    }\n",
       "</style>\n",
       "<table border=\"1\" class=\"dataframe\">\n",
       "  <thead>\n",
       "    <tr style=\"text-align: right;\">\n",
       "      <th></th>\n",
       "      <th>textID</th>\n",
       "      <th>text</th>\n",
       "      <th>selected_text</th>\n",
       "      <th>sentiment</th>\n",
       "      <th>spelling</th>\n",
       "    </tr>\n",
       "  </thead>\n",
       "  <tbody>\n",
       "    <tr>\n",
       "      <th>49</th>\n",
       "      <td>3fcea4debc</td>\n",
       "      <td>which case i got a new one last week and im not thrilled at all with mine</td>\n",
       "      <td>d im not thrilled at all with mine</td>\n",
       "      <td>negative</td>\n",
       "      <td>d</td>\n",
       "    </tr>\n",
       "    <tr>\n",
       "      <th>66</th>\n",
       "      <td>95e12b1cb1</td>\n",
       "      <td>hes awesome have you worked with him before hes a good friend</td>\n",
       "      <td>s awesome</td>\n",
       "      <td>positive</td>\n",
       "      <td>s</td>\n",
       "    </tr>\n",
       "    <tr>\n",
       "      <th>129</th>\n",
       "      <td>94f67cfa6d</td>\n",
       "      <td>hey mia  totally adore your music  when will your cd be out</td>\n",
       "      <td>y adore</td>\n",
       "      <td>positive</td>\n",
       "      <td>y</td>\n",
       "    </tr>\n",
       "    <tr>\n",
       "      <th>134</th>\n",
       "      <td>6903cb08f2</td>\n",
       "      <td>nice to see you tweeting  its sunday   may and were celebrating mothers day here today so be nice to yer mom</td>\n",
       "      <td>e nice</td>\n",
       "      <td>positive</td>\n",
       "      <td>e</td>\n",
       "    </tr>\n",
       "    <tr>\n",
       "      <th>166</th>\n",
       "      <td>c78bf59e67</td>\n",
       "      <td>lichfield tweetup sounds like fun  hope to see you and everyone else there</td>\n",
       "      <td>p sounds like fun</td>\n",
       "      <td>positive</td>\n",
       "      <td>p</td>\n",
       "    </tr>\n",
       "    <tr>\n",
       "      <th>...</th>\n",
       "      <td>...</td>\n",
       "      <td>...</td>\n",
       "      <td>...</td>\n",
       "      <td>...</td>\n",
       "      <td>...</td>\n",
       "    </tr>\n",
       "    <tr>\n",
       "      <th>27153</th>\n",
       "      <td>a044ed928d</td>\n",
       "      <td>enjoy nola definitely one of my favorite cities in the world please have a beignet with chocolate for me</td>\n",
       "      <td>y one of my favorite cities in the world</td>\n",
       "      <td>positive</td>\n",
       "      <td>y</td>\n",
       "    </tr>\n",
       "    <tr>\n",
       "      <th>27240</th>\n",
       "      <td>40143b692e</td>\n",
       "      <td>who knows  it makes me sad  lol</td>\n",
       "      <td>e sad</td>\n",
       "      <td>negative</td>\n",
       "      <td>e</td>\n",
       "    </tr>\n",
       "    <tr>\n",
       "      <th>27426</th>\n",
       "      <td>132e051fe8</td>\n",
       "      <td>my cousins moved there like   years ago and i miss them so much i was just looking at their facebook and now im sad</td>\n",
       "      <td>m sad</td>\n",
       "      <td>negative</td>\n",
       "      <td>m</td>\n",
       "    </tr>\n",
       "    <tr>\n",
       "      <th>27470</th>\n",
       "      <td>778184dff1</td>\n",
       "      <td>lol i know  and hahadid you fall asleep or just get bored of shaun p joke</td>\n",
       "      <td>t bored</td>\n",
       "      <td>negative</td>\n",
       "      <td>t</td>\n",
       "    </tr>\n",
       "    <tr>\n",
       "      <th>27476</th>\n",
       "      <td>4eac33d1c0</td>\n",
       "      <td>wish we could come see u on denver  husband lost his job and cant afford it</td>\n",
       "      <td>d lost</td>\n",
       "      <td>negative</td>\n",
       "      <td>d</td>\n",
       "    </tr>\n",
       "  </tbody>\n",
       "</table>\n",
       "<p>682 rows × 5 columns</p>\n",
       "</div>"
      ],
      "text/plain": [
       "           textID  \\\n",
       "49     3fcea4debc   \n",
       "66     95e12b1cb1   \n",
       "129    94f67cfa6d   \n",
       "134    6903cb08f2   \n",
       "166    c78bf59e67   \n",
       "...           ...   \n",
       "27153  a044ed928d   \n",
       "27240  40143b692e   \n",
       "27426  132e051fe8   \n",
       "27470  778184dff1   \n",
       "27476  4eac33d1c0   \n",
       "\n",
       "                                                                                                                        text  \\\n",
       "49                                                 which case i got a new one last week and im not thrilled at all with mine   \n",
       "66                                                             hes awesome have you worked with him before hes a good friend   \n",
       "129                                                              hey mia  totally adore your music  when will your cd be out   \n",
       "134             nice to see you tweeting  its sunday   may and were celebrating mothers day here today so be nice to yer mom   \n",
       "166                                               lichfield tweetup sounds like fun  hope to see you and everyone else there   \n",
       "...                                                                                                                      ...   \n",
       "27153               enjoy nola definitely one of my favorite cities in the world please have a beignet with chocolate for me   \n",
       "27240                                                                                        who knows  it makes me sad  lol   \n",
       "27426    my cousins moved there like   years ago and i miss them so much i was just looking at their facebook and now im sad   \n",
       "27470                                              lol i know  and hahadid you fall asleep or just get bored of shaun p joke   \n",
       "27476                                            wish we could come see u on denver  husband lost his job and cant afford it   \n",
       "\n",
       "                                  selected_text sentiment spelling  \n",
       "49           d im not thrilled at all with mine  negative        d  \n",
       "66                                    s awesome  positive        s  \n",
       "129                                     y adore  positive        y  \n",
       "134                                      e nice  positive        e  \n",
       "166                           p sounds like fun  positive        p  \n",
       "...                                         ...       ...      ...  \n",
       "27153  y one of my favorite cities in the world  positive        y  \n",
       "27240                                     e sad  negative        e  \n",
       "27426                                     m sad  negative        m  \n",
       "27470                                   t bored  negative        t  \n",
       "27476                                    d lost  negative        d  \n",
       "\n",
       "[682 rows x 5 columns]"
      ]
     },
     "execution_count": 19,
     "metadata": {},
     "output_type": "execute_result"
    }
   ],
   "source": [
    "train[train['spelling'].apply(lambda x: len(x)==1)]"
   ]
  },
  {
   "cell_type": "code",
   "execution_count": 20,
   "id": "102cbdef",
   "metadata": {
    "execution": {
     "iopub.execute_input": "2022-11-06T15:40:57.379446Z",
     "iopub.status.busy": "2022-11-06T15:40:57.379028Z",
     "iopub.status.idle": "2022-11-06T15:40:57.385076Z",
     "shell.execute_reply": "2022-11-06T15:40:57.383813Z"
    },
    "papermill": {
     "duration": 0.019081,
     "end_time": "2022-11-06T15:40:57.387627",
     "exception": false,
     "start_time": "2022-11-06T15:40:57.368546",
     "status": "completed"
    },
    "tags": []
   },
   "outputs": [],
   "source": [
    "def remove_text(x):\n",
    "    selected=x[0]\n",
    "    spelling=x[1]\n",
    "    selected=selected.split()\n",
    "    selected.remove(spelling) #https://www.geeksforgeeks.org/python-list-remove/\n",
    "    return \" \".join(selected)"
   ]
  },
  {
   "cell_type": "code",
   "execution_count": 21,
   "id": "9da8cbd4",
   "metadata": {
    "execution": {
     "iopub.execute_input": "2022-11-06T15:40:57.405872Z",
     "iopub.status.busy": "2022-11-06T15:40:57.405475Z",
     "iopub.status.idle": "2022-11-06T15:40:57.816627Z",
     "shell.execute_reply": "2022-11-06T15:40:57.815267Z"
    },
    "papermill": {
     "duration": 0.423392,
     "end_time": "2022-11-06T15:40:57.819355",
     "exception": false,
     "start_time": "2022-11-06T15:40:57.395963",
     "status": "completed"
    },
    "tags": []
   },
   "outputs": [],
   "source": [
    "train['selected_text']=train[['selected_text','spelling']].apply(lambda x: remove_text(x) if len(x['spelling'])==1  else x['selected_text'],axis=1)"
   ]
  },
  {
   "cell_type": "code",
   "execution_count": 22,
   "id": "54cb56a7",
   "metadata": {
    "execution": {
     "iopub.execute_input": "2022-11-06T15:40:57.837864Z",
     "iopub.status.busy": "2022-11-06T15:40:57.837458Z",
     "iopub.status.idle": "2022-11-06T15:40:58.573515Z",
     "shell.execute_reply": "2022-11-06T15:40:58.572162Z"
    },
    "papermill": {
     "duration": 0.749023,
     "end_time": "2022-11-06T15:40:58.576707",
     "exception": false,
     "start_time": "2022-11-06T15:40:57.827684",
     "status": "completed"
    },
    "tags": []
   },
   "outputs": [],
   "source": [
    "train['spelling']=train.apply(lambda x: wrong_words(x.text,x.selected_text),axis=1)"
   ]
  },
  {
   "cell_type": "code",
   "execution_count": 23,
   "id": "1479a949",
   "metadata": {
    "execution": {
     "iopub.execute_input": "2022-11-06T15:40:58.598090Z",
     "iopub.status.busy": "2022-11-06T15:40:58.596763Z",
     "iopub.status.idle": "2022-11-06T15:40:58.622633Z",
     "shell.execute_reply": "2022-11-06T15:40:58.621421Z"
    },
    "papermill": {
     "duration": 0.038534,
     "end_time": "2022-11-06T15:40:58.625055",
     "exception": false,
     "start_time": "2022-11-06T15:40:58.586521",
     "status": "completed"
    },
    "tags": []
   },
   "outputs": [
    {
     "data": {
      "text/html": [
       "<div>\n",
       "<style scoped>\n",
       "    .dataframe tbody tr th:only-of-type {\n",
       "        vertical-align: middle;\n",
       "    }\n",
       "\n",
       "    .dataframe tbody tr th {\n",
       "        vertical-align: top;\n",
       "    }\n",
       "\n",
       "    .dataframe thead th {\n",
       "        text-align: right;\n",
       "    }\n",
       "</style>\n",
       "<table border=\"1\" class=\"dataframe\">\n",
       "  <thead>\n",
       "    <tr style=\"text-align: right;\">\n",
       "      <th></th>\n",
       "      <th>textID</th>\n",
       "      <th>text</th>\n",
       "      <th>selected_text</th>\n",
       "      <th>sentiment</th>\n",
       "      <th>spelling</th>\n",
       "    </tr>\n",
       "  </thead>\n",
       "  <tbody>\n",
       "  </tbody>\n",
       "</table>\n",
       "</div>"
      ],
      "text/plain": [
       "Empty DataFrame\n",
       "Columns: [textID, text, selected_text, sentiment, spelling]\n",
       "Index: []"
      ]
     },
     "execution_count": 23,
     "metadata": {},
     "output_type": "execute_result"
    }
   ],
   "source": [
    "train[train['spelling'].apply(lambda x: len(x))==1]"
   ]
  },
  {
   "cell_type": "code",
   "execution_count": 24,
   "id": "deda8d4a",
   "metadata": {
    "execution": {
     "iopub.execute_input": "2022-11-06T15:40:58.642817Z",
     "iopub.status.busy": "2022-11-06T15:40:58.642453Z",
     "iopub.status.idle": "2022-11-06T15:40:58.663743Z",
     "shell.execute_reply": "2022-11-06T15:40:58.662602Z"
    },
    "papermill": {
     "duration": 0.032875,
     "end_time": "2022-11-06T15:40:58.666224",
     "exception": false,
     "start_time": "2022-11-06T15:40:58.633349",
     "status": "completed"
    },
    "tags": []
   },
   "outputs": [
    {
     "data": {
      "text/html": [
       "<div>\n",
       "<style scoped>\n",
       "    .dataframe tbody tr th:only-of-type {\n",
       "        vertical-align: middle;\n",
       "    }\n",
       "\n",
       "    .dataframe tbody tr th {\n",
       "        vertical-align: top;\n",
       "    }\n",
       "\n",
       "    .dataframe thead th {\n",
       "        text-align: right;\n",
       "    }\n",
       "</style>\n",
       "<table border=\"1\" class=\"dataframe\">\n",
       "  <thead>\n",
       "    <tr style=\"text-align: right;\">\n",
       "      <th></th>\n",
       "      <th>textID</th>\n",
       "      <th>text</th>\n",
       "      <th>selected_text</th>\n",
       "      <th>sentiment</th>\n",
       "      <th>spelling</th>\n",
       "    </tr>\n",
       "  </thead>\n",
       "  <tbody>\n",
       "    <tr>\n",
       "      <th>251</th>\n",
       "      <td>77ba0fee75</td>\n",
       "      <td>powerblog what is this powerblog challenge you keep talking about  im a newbie follower</td>\n",
       "      <td>g what is this powerblog challenge you keep talking about  im a newbie followe</td>\n",
       "      <td>neutral</td>\n",
       "      <td>g followe</td>\n",
       "    </tr>\n",
       "    <tr>\n",
       "      <th>366</th>\n",
       "      <td>b751f39570</td>\n",
       "      <td>yea i should know but tell me everything  ps send me direct messages telling   haha</td>\n",
       "      <td>yea i should know but tell me everything  ps send me direct messages telling   ha</td>\n",
       "      <td>neutral</td>\n",
       "      <td>ha</td>\n",
       "    </tr>\n",
       "    <tr>\n",
       "      <th>581</th>\n",
       "      <td>1fce3e2d7b</td>\n",
       "      <td>no bueno  hollykins needs to feel better asap  ps i miss you  you done with uni soon arent you  soproudofyou</td>\n",
       "      <td>no bueno  hollykins needs to feel better asap  ps i miss you  you done with uni soon arent you  soproudofyo</td>\n",
       "      <td>neutral</td>\n",
       "      <td>soproudofyo</td>\n",
       "    </tr>\n",
       "    <tr>\n",
       "      <th>637</th>\n",
       "      <td>b04bbb81c9</td>\n",
       "      <td>hi to one kiwi artist from another kiwi artist</td>\n",
       "      <td>hi to one kiwi artist from another kiwi artis</td>\n",
       "      <td>neutral</td>\n",
       "      <td>artis</td>\n",
       "    </tr>\n",
       "    <tr>\n",
       "      <th>639</th>\n",
       "      <td>289317384e</td>\n",
       "      <td>oooo ok   why  havent you accepted my friends request</td>\n",
       "      <td>oooo ok   why  havent you accepted my friends reque</td>\n",
       "      <td>neutral</td>\n",
       "      <td>reque</td>\n",
       "    </tr>\n",
       "    <tr>\n",
       "      <th>...</th>\n",
       "      <td>...</td>\n",
       "      <td>...</td>\n",
       "      <td>...</td>\n",
       "      <td>...</td>\n",
       "      <td>...</td>\n",
       "    </tr>\n",
       "    <tr>\n",
       "      <th>26870</th>\n",
       "      <td>ff77427519</td>\n",
       "      <td>will do it  in a  couple od days  when i have  more time  for  now  i   need to  get some sleep night night  all  peace</td>\n",
       "      <td>will do it  in a  couple od days  when i have  more time  for  now  i   need to  get some sleep night night  all  pe</td>\n",
       "      <td>neutral</td>\n",
       "      <td>pe</td>\n",
       "    </tr>\n",
       "    <tr>\n",
       "      <th>26882</th>\n",
       "      <td>336b9cfc93</td>\n",
       "      <td>xdxdxd you crazy little thing why didnï¿½t you get off the train and hug me</td>\n",
       "      <td>dxd you crazy little thing why didnï¿½t you get off the train and hug me</td>\n",
       "      <td>neutral</td>\n",
       "      <td>dxd</td>\n",
       "    </tr>\n",
       "    <tr>\n",
       "      <th>27067</th>\n",
       "      <td>c2dfc5875c</td>\n",
       "      <td>jamie  sean cody up for some angry  jamie  sean cody i wouldnt piss this one off  hey there guys do</td>\n",
       "      <td>amie  sean cody up for some angry  jamie  sean cody i wouldnt piss this one off  hey there guys do</td>\n",
       "      <td>neutral</td>\n",
       "      <td>amie</td>\n",
       "    </tr>\n",
       "    <tr>\n",
       "      <th>27111</th>\n",
       "      <td>44cf670176</td>\n",
       "      <td>haha itll be gross by the time it comes back    tell you what  well yum vancouver some malay spot soon or just go indian</td>\n",
       "      <td>haha itll be gross by the time it comes back    tell you what  well yum vancouver some malay spot soon or just go india</td>\n",
       "      <td>neutral</td>\n",
       "      <td>india</td>\n",
       "    </tr>\n",
       "    <tr>\n",
       "      <th>27349</th>\n",
       "      <td>f60f20ed09</td>\n",
       "      <td>yea but thats an old pic  she looks a lot different nowshe turned into such a beautiful women   i miss her a lot</td>\n",
       "      <td>yea but thats an old pic  she looks a lot different nowshe turned into such a beautiful women   i miss her a lo</td>\n",
       "      <td>neutral</td>\n",
       "      <td>lo</td>\n",
       "    </tr>\n",
       "  </tbody>\n",
       "</table>\n",
       "<p>148 rows × 5 columns</p>\n",
       "</div>"
      ],
      "text/plain": [
       "           textID  \\\n",
       "251    77ba0fee75   \n",
       "366    b751f39570   \n",
       "581    1fce3e2d7b   \n",
       "637    b04bbb81c9   \n",
       "639    289317384e   \n",
       "...           ...   \n",
       "26870  ff77427519   \n",
       "26882  336b9cfc93   \n",
       "27067  c2dfc5875c   \n",
       "27111  44cf670176   \n",
       "27349  f60f20ed09   \n",
       "\n",
       "                                                                                                                            text  \\\n",
       "251                                      powerblog what is this powerblog challenge you keep talking about  im a newbie follower   \n",
       "366                                          yea i should know but tell me everything  ps send me direct messages telling   haha   \n",
       "581                 no bueno  hollykins needs to feel better asap  ps i miss you  you done with uni soon arent you  soproudofyou   \n",
       "637                                                                               hi to one kiwi artist from another kiwi artist   \n",
       "639                                                                        oooo ok   why  havent you accepted my friends request   \n",
       "...                                                                                                                          ...   \n",
       "26870    will do it  in a  couple od days  when i have  more time  for  now  i   need to  get some sleep night night  all  peace   \n",
       "26882                                                xdxdxd you crazy little thing why didnï¿½t you get off the train and hug me   \n",
       "27067                       jamie  sean cody up for some angry  jamie  sean cody i wouldnt piss this one off  hey there guys do    \n",
       "27111   haha itll be gross by the time it comes back    tell you what  well yum vancouver some malay spot soon or just go indian   \n",
       "27349           yea but thats an old pic  she looks a lot different nowshe turned into such a beautiful women   i miss her a lot   \n",
       "\n",
       "                                                                                                                 selected_text  \\\n",
       "251                                             g what is this powerblog challenge you keep talking about  im a newbie followe   \n",
       "366                                          yea i should know but tell me everything  ps send me direct messages telling   ha   \n",
       "581                no bueno  hollykins needs to feel better asap  ps i miss you  you done with uni soon arent you  soproudofyo   \n",
       "637                                                                              hi to one kiwi artist from another kiwi artis   \n",
       "639                                                                        oooo ok   why  havent you accepted my friends reque   \n",
       "...                                                                                                                        ...   \n",
       "26870     will do it  in a  couple od days  when i have  more time  for  now  i   need to  get some sleep night night  all  pe   \n",
       "26882                                                 dxd you crazy little thing why didnï¿½t you get off the train and hug me   \n",
       "27067                      amie  sean cody up for some angry  jamie  sean cody i wouldnt piss this one off  hey there guys do    \n",
       "27111  haha itll be gross by the time it comes back    tell you what  well yum vancouver some malay spot soon or just go india   \n",
       "27349          yea but thats an old pic  she looks a lot different nowshe turned into such a beautiful women   i miss her a lo   \n",
       "\n",
       "      sentiment     spelling  \n",
       "251     neutral    g followe  \n",
       "366     neutral           ha  \n",
       "581     neutral  soproudofyo  \n",
       "637     neutral        artis  \n",
       "639     neutral        reque  \n",
       "...         ...          ...  \n",
       "26870   neutral           pe  \n",
       "26882   neutral          dxd  \n",
       "27067   neutral         amie  \n",
       "27111   neutral        india  \n",
       "27349   neutral           lo  \n",
       "\n",
       "[148 rows x 5 columns]"
      ]
     },
     "execution_count": 24,
     "metadata": {},
     "output_type": "execute_result"
    }
   ],
   "source": [
    "train.loc[(train['spelling']!='++++') & (train['sentiment']=='neutral')]"
   ]
  },
  {
   "cell_type": "code",
   "execution_count": null,
   "id": "fcfeaee1",
   "metadata": {
    "papermill": {
     "duration": 0.008001,
     "end_time": "2022-11-06T15:40:58.682576",
     "exception": false,
     "start_time": "2022-11-06T15:40:58.674575",
     "status": "completed"
    },
    "tags": []
   },
   "outputs": [],
   "source": []
  }
 ],
 "metadata": {
  "kernelspec": {
   "display_name": "Python 3",
   "language": "python",
   "name": "python3"
  },
  "language_info": {
   "codemirror_mode": {
    "name": "ipython",
    "version": 3
   },
   "file_extension": ".py",
   "mimetype": "text/x-python",
   "name": "python",
   "nbconvert_exporter": "python",
   "pygments_lexer": "ipython3",
   "version": "3.7.12"
  },
  "papermill": {
   "default_parameters": {},
   "duration": 25.173024,
   "end_time": "2022-11-06T15:41:01.773087",
   "environment_variables": {},
   "exception": null,
   "input_path": "__notebook__.ipynb",
   "output_path": "__notebook__.ipynb",
   "parameters": {},
   "start_time": "2022-11-06T15:40:36.600063",
   "version": "2.3.4"
  }
 },
 "nbformat": 4,
 "nbformat_minor": 5
}
